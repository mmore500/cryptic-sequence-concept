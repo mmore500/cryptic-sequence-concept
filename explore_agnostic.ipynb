{
 "cells": [
  {
   "cell_type": "markdown",
   "metadata": {},
   "source": [
    "# Exploratory Demo of All-types Functional Site Methods\n"
   ]
  },
  {
   "cell_type": "markdown",
   "metadata": {},
   "source": [
    "*Goal:* infer prevalence of *all* functional genome sites that cannot be identified through individual knockouts (including both additive or epistatic sites).\n",
    "\n",
    "**Outline:**\n",
    "- Generate sample genome with both additive and redundant (epistatic) sites\n",
    "- Inspect ground truth site counts in sample genome\n",
    "- Generate repeat skeletonizations of sample genome (i.e., knockouts where no remaining sites can be removed without observing a fitness effect)\n",
    "- Use mark-recapture statistics over \"captures\" of functional sites within skeletons to infer overall prevalence of functional sites\n"
   ]
  },
  {
   "cell_type": "markdown",
   "metadata": {},
   "source": [
    "## Preliminaries\n"
   ]
  },
  {
   "cell_type": "code",
   "execution_count": 1,
   "metadata": {
    "execution": {
     "iopub.execute_input": "2024-02-09T04:12:39.381701Z",
     "iopub.status.busy": "2024-02-09T04:12:39.381538Z",
     "iopub.status.idle": "2024-02-09T04:12:40.591543Z",
     "shell.execute_reply": "2024-02-09T04:12:40.591016Z"
    }
   },
   "outputs": [],
   "source": [
    "from matplotlib import pyplot as plt\n",
    "import numpy as np\n",
    "import pandas as pd\n",
    "import seaborn as sns\n",
    "from tqdm import tqdm\n",
    "\n",
    "from pylib.analyze_agnostic import assay_agnostic_naive\n",
    "from pylib.analyze_epistasis import (\n",
    "    describe_skeletons,\n",
    "    skeletonize_naive,\n",
    ")\n",
    "from pylib.modelsys_explicit import GenomeExplicit\n",
    "from pylib.modelsys_explicit import (\n",
    "    GenomeExplicit,\n",
    "    CalcKnockoutEffectsAdditive,\n",
    "    CalcKnockoutEffectsEpistasis,\n",
    "    create_additive_array,\n",
    "    create_epistasis_matrix_disjoint,\n",
    "    describe_additive_array,\n",
    "    describe_epistasis_matrix,\n",
    ")\n"
   ]
  },
  {
   "cell_type": "markdown",
   "metadata": {},
   "source": [
    "Method implementations are organized as external Python source files within the local `pylib` directory.\n"
   ]
  },
  {
   "cell_type": "code",
   "execution_count": 2,
   "metadata": {
    "execution": {
     "iopub.execute_input": "2024-02-09T04:12:40.594715Z",
     "iopub.status.busy": "2024-02-09T04:12:40.593942Z",
     "iopub.status.idle": "2024-02-09T04:12:40.597109Z",
     "shell.execute_reply": "2024-02-09T04:12:40.596640Z"
    }
   },
   "outputs": [],
   "source": [
    "np.random.seed(1234)\n"
   ]
  },
  {
   "cell_type": "markdown",
   "metadata": {},
   "source": [
    "Ensure reproducibility.\n"
   ]
  },
  {
   "cell_type": "markdown",
   "metadata": {},
   "source": [
    "## Create Sample Genome\n"
   ]
  },
  {
   "cell_type": "markdown",
   "metadata": {},
   "source": [
    "Create a genome with 10,000 distinct sites.\n",
    "\n",
    "Let 4% of sites have a knockout fitness effect below detectability threshold.\n",
    "Effect sizes are distributed uniformly between 0 and 0.7, relative to the detectability threshold of 1.0.\n",
    "\n",
    "Add 40 epistatic sets, each with 4 sites.\n",
    "Fitness consequences of magnitudes between 0.7 and 1.6 occur when all sites within an epistatic set are knocked out.\n",
    "\n",
    "Overlap is allowed --- n individual sites may have both additive and epistatic effects.\n"
   ]
  },
  {
   "cell_type": "code",
   "execution_count": 3,
   "metadata": {
    "execution": {
     "iopub.execute_input": "2024-02-09T04:12:40.599462Z",
     "iopub.status.busy": "2024-02-09T04:12:40.599135Z",
     "iopub.status.idle": "2024-02-09T04:12:40.603816Z",
     "shell.execute_reply": "2024-02-09T04:12:40.603364Z"
    }
   },
   "outputs": [],
   "source": [
    "num_sites = 10000\n",
    "distn = lambda x: np.random.rand(x) * 0.7\n",
    "additive_array = create_additive_array(num_sites, 0.04, distn)\n",
    "epistasis_matrix = create_epistasis_matrix_disjoint(num_sites, 40, 4)\n",
    "genome = GenomeExplicit(\n",
    "    [\n",
    "        CalcKnockoutEffectsAdditive(additive_array),\n",
    "        CalcKnockoutEffectsEpistasis(epistasis_matrix, effect_size=(0.7, 1.6)),\n",
    "    ],\n",
    ")\n"
   ]
  },
  {
   "cell_type": "markdown",
   "metadata": {},
   "source": [
    "## Inspect Sample Genome\n"
   ]
  },
  {
   "cell_type": "markdown",
   "metadata": {},
   "source": [
    "Create DataFrame with rows describing content of each genome site.\n"
   ]
  },
  {
   "cell_type": "code",
   "execution_count": 4,
   "metadata": {
    "execution": {
     "iopub.execute_input": "2024-02-09T04:12:40.606020Z",
     "iopub.status.busy": "2024-02-09T04:12:40.605695Z",
     "iopub.status.idle": "2024-02-09T04:12:40.622646Z",
     "shell.execute_reply": "2024-02-09T04:12:40.622079Z"
    }
   },
   "outputs": [
    {
     "data": {
      "text/html": [
       "<div>\n",
       "<style scoped>\n",
       "    .dataframe tbody tr th:only-of-type {\n",
       "        vertical-align: middle;\n",
       "    }\n",
       "\n",
       "    .dataframe tbody tr th {\n",
       "        vertical-align: top;\n",
       "    }\n",
       "\n",
       "    .dataframe thead th {\n",
       "        text-align: right;\n",
       "    }\n",
       "</style>\n",
       "<table border=\"1\" class=\"dataframe\">\n",
       "  <thead>\n",
       "    <tr style=\"text-align: right;\">\n",
       "      <th></th>\n",
       "      <th>site</th>\n",
       "      <th>additive site</th>\n",
       "      <th>additive effect</th>\n",
       "      <th>epistasis site</th>\n",
       "      <th>num epistasis effects</th>\n",
       "      <th>site type</th>\n",
       "    </tr>\n",
       "  </thead>\n",
       "  <tbody>\n",
       "    <tr>\n",
       "      <th>0</th>\n",
       "      <td>0</td>\n",
       "      <td>False</td>\n",
       "      <td>0.000000</td>\n",
       "      <td>False</td>\n",
       "      <td>0</td>\n",
       "      <td>neutral</td>\n",
       "    </tr>\n",
       "    <tr>\n",
       "      <th>1</th>\n",
       "      <td>1</td>\n",
       "      <td>True</td>\n",
       "      <td>0.049487</td>\n",
       "      <td>False</td>\n",
       "      <td>0</td>\n",
       "      <td>additive</td>\n",
       "    </tr>\n",
       "    <tr>\n",
       "      <th>2</th>\n",
       "      <td>2</td>\n",
       "      <td>True</td>\n",
       "      <td>0.396627</td>\n",
       "      <td>False</td>\n",
       "      <td>0</td>\n",
       "      <td>additive</td>\n",
       "    </tr>\n",
       "    <tr>\n",
       "      <th>3</th>\n",
       "      <td>3</td>\n",
       "      <td>False</td>\n",
       "      <td>0.000000</td>\n",
       "      <td>False</td>\n",
       "      <td>0</td>\n",
       "      <td>neutral</td>\n",
       "    </tr>\n",
       "    <tr>\n",
       "      <th>4</th>\n",
       "      <td>4</td>\n",
       "      <td>False</td>\n",
       "      <td>0.000000</td>\n",
       "      <td>False</td>\n",
       "      <td>0</td>\n",
       "      <td>neutral</td>\n",
       "    </tr>\n",
       "    <tr>\n",
       "      <th>...</th>\n",
       "      <td>...</td>\n",
       "      <td>...</td>\n",
       "      <td>...</td>\n",
       "      <td>...</td>\n",
       "      <td>...</td>\n",
       "      <td>...</td>\n",
       "    </tr>\n",
       "    <tr>\n",
       "      <th>9995</th>\n",
       "      <td>9995</td>\n",
       "      <td>False</td>\n",
       "      <td>0.000000</td>\n",
       "      <td>False</td>\n",
       "      <td>0</td>\n",
       "      <td>neutral</td>\n",
       "    </tr>\n",
       "    <tr>\n",
       "      <th>9996</th>\n",
       "      <td>9996</td>\n",
       "      <td>False</td>\n",
       "      <td>0.000000</td>\n",
       "      <td>False</td>\n",
       "      <td>0</td>\n",
       "      <td>neutral</td>\n",
       "    </tr>\n",
       "    <tr>\n",
       "      <th>9997</th>\n",
       "      <td>9997</td>\n",
       "      <td>False</td>\n",
       "      <td>0.000000</td>\n",
       "      <td>False</td>\n",
       "      <td>0</td>\n",
       "      <td>neutral</td>\n",
       "    </tr>\n",
       "    <tr>\n",
       "      <th>9998</th>\n",
       "      <td>9998</td>\n",
       "      <td>False</td>\n",
       "      <td>0.000000</td>\n",
       "      <td>False</td>\n",
       "      <td>0</td>\n",
       "      <td>neutral</td>\n",
       "    </tr>\n",
       "    <tr>\n",
       "      <th>9999</th>\n",
       "      <td>9999</td>\n",
       "      <td>False</td>\n",
       "      <td>0.000000</td>\n",
       "      <td>False</td>\n",
       "      <td>0</td>\n",
       "      <td>neutral</td>\n",
       "    </tr>\n",
       "  </tbody>\n",
       "</table>\n",
       "<p>10000 rows × 6 columns</p>\n",
       "</div>"
      ],
      "text/plain": [
       "      site  additive site  additive effect  epistasis site  \\\n",
       "0        0          False         0.000000           False   \n",
       "1        1           True         0.049487           False   \n",
       "2        2           True         0.396627           False   \n",
       "3        3          False         0.000000           False   \n",
       "4        4          False         0.000000           False   \n",
       "...    ...            ...              ...             ...   \n",
       "9995  9995          False         0.000000           False   \n",
       "9996  9996          False         0.000000           False   \n",
       "9997  9997          False         0.000000           False   \n",
       "9998  9998          False         0.000000           False   \n",
       "9999  9999          False         0.000000           False   \n",
       "\n",
       "      num epistasis effects site type  \n",
       "0                         0   neutral  \n",
       "1                         0  additive  \n",
       "2                         0  additive  \n",
       "3                         0   neutral  \n",
       "4                         0   neutral  \n",
       "...                     ...       ...  \n",
       "9995                      0   neutral  \n",
       "9996                      0   neutral  \n",
       "9997                      0   neutral  \n",
       "9998                      0   neutral  \n",
       "9999                      0   neutral  \n",
       "\n",
       "[10000 rows x 6 columns]"
      ]
     },
     "execution_count": 4,
     "metadata": {},
     "output_type": "execute_result"
    }
   ],
   "source": [
    "dfa = describe_additive_array(additive_array)\n",
    "dfb = describe_epistasis_matrix(epistasis_matrix)\n",
    "df_genome = pd.DataFrame.merge(dfa, dfb, on=\"site\")\n",
    "df_genome[\"site type\"] = (\n",
    "    df_genome[\"additive site\"].astype(int)\n",
    "    + df_genome[\"epistasis site\"].astype(int) * 2\n",
    ").map(\n",
    "    {\n",
    "        0: \"neutral\",\n",
    "        1: \"additive\",\n",
    "        2: \"epistasis\",\n",
    "        3: \"both\",\n",
    "    }\n",
    ")\n",
    "\n",
    "df_genome\n"
   ]
  },
  {
   "cell_type": "markdown",
   "metadata": {},
   "source": [
    "How many of each kind of site are in the genome?\n"
   ]
  },
  {
   "cell_type": "code",
   "execution_count": 5,
   "metadata": {
    "execution": {
     "iopub.execute_input": "2024-02-09T04:12:40.651003Z",
     "iopub.status.busy": "2024-02-09T04:12:40.650832Z",
     "iopub.status.idle": "2024-02-09T04:12:40.963687Z",
     "shell.execute_reply": "2024-02-09T04:12:40.963083Z"
    }
   },
   "outputs": [
    {
     "data": {
      "text/plain": [
       "neutral      9445\n",
       "additive      395\n",
       "epistasis     155\n",
       "both            5\n",
       "Name: site type, dtype: int64"
      ]
     },
     "execution_count": 5,
     "metadata": {},
     "output_type": "execute_result"
    },
    {
     "data": {
      "image/png": "[encoded data removed]",
      "text/plain": [
       "<Figure size 500x500 with 1 Axes>"
      ]
     },
     "metadata": {},
     "output_type": "display_data"
    }
   ],
   "source": [
    "sns.displot(df_genome[\"site type\"])\n",
    "plt.yscale(\"log\")\n",
    "df_genome[\"site type\"].value_counts()\n"
   ]
  },
  {
   "cell_type": "markdown",
   "metadata": {},
   "source": [
    "How many functional (i.e., non-neutral) sites are there?\n"
   ]
  },
  {
   "cell_type": "code",
   "execution_count": 6,
   "metadata": {
    "execution": {
     "iopub.execute_input": "2024-02-09T04:12:40.966251Z",
     "iopub.status.busy": "2024-02-09T04:12:40.965910Z",
     "iopub.status.idle": "2024-02-09T04:12:40.970702Z",
     "shell.execute_reply": "2024-02-09T04:12:40.970096Z"
    }
   },
   "outputs": [
    {
     "data": {
      "text/plain": [
       "555"
      ]
     },
     "execution_count": 6,
     "metadata": {},
     "output_type": "execute_result"
    }
   ],
   "source": [
    "num_functional_sites = (df_genome[\"site type\"] != \"neutral\").sum()\n",
    "num_functional_sites\n"
   ]
  },
  {
   "cell_type": "markdown",
   "metadata": {},
   "source": [
    "## Perform Skeletonizations\n"
   ]
  },
  {
   "cell_type": "markdown",
   "metadata": {},
   "source": [
    "\"Skeletons\" are minimal sets of genome sites that maintain wile-type fitness.\n",
    "Skeletons can be generated by sequentially removing sites from the genome, until no further sites can be removed without detectably reducing fitness.\n",
    "\n",
    "Sample 5 skeletons.\n"
   ]
  },
  {
   "cell_type": "code",
   "execution_count": 7,
   "metadata": {
    "execution": {
     "iopub.execute_input": "2024-02-09T04:12:40.972984Z",
     "iopub.status.busy": "2024-02-09T04:12:40.972706Z",
     "iopub.status.idle": "2024-02-09T04:12:57.432796Z",
     "shell.execute_reply": "2024-02-09T04:12:57.432135Z"
    }
   },
   "outputs": [
    {
     "name": "stderr",
     "output_type": "stream",
     "text": [
      "100%|██████████| 5/5 [00:16<00:00,  3.29s/it]\n"
     ]
    }
   ],
   "source": [
    "num_skeletonizations = 5\n",
    "skeletons = np.vstack(\n",
    "    [\n",
    "        skeletonize_naive(num_sites, genome.test_knockout)\n",
    "        for _ in tqdm(range(num_skeletonizations))\n",
    "    ],\n",
    ")\n"
   ]
  },
  {
   "cell_type": "markdown",
   "metadata": {},
   "source": [
    "Here is an example skeleton.\n"
   ]
  },
  {
   "cell_type": "code",
   "execution_count": 8,
   "metadata": {
    "execution": {
     "iopub.execute_input": "2024-02-09T04:12:57.435643Z",
     "iopub.status.busy": "2024-02-09T04:12:57.435445Z",
     "iopub.status.idle": "2024-02-09T04:12:57.576916Z",
     "shell.execute_reply": "2024-02-09T04:12:57.576306Z"
    }
   },
   "outputs": [
    {
     "data": {
      "text/plain": [
       "array([False,  True,  True, ..., False, False, False])"
      ]
     },
     "execution_count": 8,
     "metadata": {},
     "output_type": "execute_result"
    },
    {
     "data": {
      "image/png": "[encoded data removed]",
      "text/plain": [
       "<Figure size 640x480 with 1 Axes>"
      ]
     },
     "metadata": {},
     "output_type": "display_data"
    }
   ],
   "source": [
    "# convert from knockout true to retained true\n",
    "retained_sites = ~skeletons[0].astype(bool)\n",
    "sns.rugplot(\n",
    "    np.flatnonzero(retained_sites),\n",
    "    height=0.5,\n",
    ")\n",
    "retained_sites\n"
   ]
  },
  {
   "cell_type": "markdown",
   "metadata": {},
   "source": [
    "## Describe Skeletons\n"
   ]
  },
  {
   "cell_type": "markdown",
   "metadata": {},
   "source": [
    "Tabulate information across skeletons on a site-by-site basis.\n"
   ]
  },
  {
   "cell_type": "code",
   "execution_count": 9,
   "metadata": {
    "execution": {
     "iopub.execute_input": "2024-02-09T04:12:57.579423Z",
     "iopub.status.busy": "2024-02-09T04:12:57.579080Z",
     "iopub.status.idle": "2024-02-09T04:13:01.870722Z",
     "shell.execute_reply": "2024-02-09T04:13:01.870067Z"
    }
   },
   "outputs": [
    {
     "data": {
      "text/html": [
       "<div>\n",
       "<style scoped>\n",
       "    .dataframe tbody tr th:only-of-type {\n",
       "        vertical-align: middle;\n",
       "    }\n",
       "\n",
       "    .dataframe tbody tr th {\n",
       "        vertical-align: top;\n",
       "    }\n",
       "\n",
       "    .dataframe thead th {\n",
       "        text-align: right;\n",
       "    }\n",
       "</style>\n",
       "<table border=\"1\" class=\"dataframe\">\n",
       "  <thead>\n",
       "    <tr style=\"text-align: right;\">\n",
       "      <th></th>\n",
       "      <th>site</th>\n",
       "      <th>skeleton dose, excluded</th>\n",
       "      <th>skeleton dose std, excluded</th>\n",
       "      <th>skeleton dose ptp, excluded</th>\n",
       "      <th>skeleton exclusion order, excluded</th>\n",
       "      <th>skeleton exclusion order std, excluded</th>\n",
       "      <th>skeleton exclusion order ptp, excluded</th>\n",
       "      <th>skeleton outcome count, excluded</th>\n",
       "      <th>skeleton outcome frequency, excluded</th>\n",
       "      <th>skeleton dose, included</th>\n",
       "      <th>...</th>\n",
       "      <th>skeleton outcome frequency, included</th>\n",
       "      <th>jackknife dose</th>\n",
       "      <th>jackknife dose std</th>\n",
       "      <th>jackknife dose ptp</th>\n",
       "      <th>raw jackknife result</th>\n",
       "      <th>raw jackknife result std</th>\n",
       "      <th>raw jackknife result ptp</th>\n",
       "      <th>jackknife result</th>\n",
       "      <th>jackknife result std</th>\n",
       "      <th>jackknife result ptp</th>\n",
       "    </tr>\n",
       "  </thead>\n",
       "  <tbody>\n",
       "    <tr>\n",
       "      <th>0</th>\n",
       "      <td>0</td>\n",
       "      <td>9572.4</td>\n",
       "      <td>1.949359</td>\n",
       "      <td>5.0</td>\n",
       "      <td>6112.8</td>\n",
       "      <td>2598.985321</td>\n",
       "      <td>6445.0</td>\n",
       "      <td>5</td>\n",
       "      <td>1.0</td>\n",
       "      <td>NaN</td>\n",
       "      <td>...</td>\n",
       "      <td>0.0</td>\n",
       "      <td>NaN</td>\n",
       "      <td>NaN</td>\n",
       "      <td>NaN</td>\n",
       "      <td>NaN</td>\n",
       "      <td>NaN</td>\n",
       "      <td>NaN</td>\n",
       "      <td>NaN</td>\n",
       "      <td>NaN</td>\n",
       "      <td>NaN</td>\n",
       "    </tr>\n",
       "    <tr>\n",
       "      <th>1</th>\n",
       "      <td>3</td>\n",
       "      <td>9572.4</td>\n",
       "      <td>1.949359</td>\n",
       "      <td>5.0</td>\n",
       "      <td>1673.2</td>\n",
       "      <td>743.405475</td>\n",
       "      <td>1939.0</td>\n",
       "      <td>5</td>\n",
       "      <td>1.0</td>\n",
       "      <td>NaN</td>\n",
       "      <td>...</td>\n",
       "      <td>0.0</td>\n",
       "      <td>NaN</td>\n",
       "      <td>NaN</td>\n",
       "      <td>NaN</td>\n",
       "      <td>NaN</td>\n",
       "      <td>NaN</td>\n",
       "      <td>NaN</td>\n",
       "      <td>NaN</td>\n",
       "      <td>NaN</td>\n",
       "      <td>NaN</td>\n",
       "    </tr>\n",
       "    <tr>\n",
       "      <th>2</th>\n",
       "      <td>4</td>\n",
       "      <td>9572.4</td>\n",
       "      <td>1.949359</td>\n",
       "      <td>5.0</td>\n",
       "      <td>4427.4</td>\n",
       "      <td>2198.958003</td>\n",
       "      <td>5792.0</td>\n",
       "      <td>5</td>\n",
       "      <td>1.0</td>\n",
       "      <td>NaN</td>\n",
       "      <td>...</td>\n",
       "      <td>0.0</td>\n",
       "      <td>NaN</td>\n",
       "      <td>NaN</td>\n",
       "      <td>NaN</td>\n",
       "      <td>NaN</td>\n",
       "      <td>NaN</td>\n",
       "      <td>NaN</td>\n",
       "      <td>NaN</td>\n",
       "      <td>NaN</td>\n",
       "      <td>NaN</td>\n",
       "    </tr>\n",
       "    <tr>\n",
       "      <th>3</th>\n",
       "      <td>5</td>\n",
       "      <td>9572.4</td>\n",
       "      <td>1.949359</td>\n",
       "      <td>5.0</td>\n",
       "      <td>3214.2</td>\n",
       "      <td>2742.844363</td>\n",
       "      <td>7034.0</td>\n",
       "      <td>5</td>\n",
       "      <td>1.0</td>\n",
       "      <td>NaN</td>\n",
       "      <td>...</td>\n",
       "      <td>0.0</td>\n",
       "      <td>NaN</td>\n",
       "      <td>NaN</td>\n",
       "      <td>NaN</td>\n",
       "      <td>NaN</td>\n",
       "      <td>NaN</td>\n",
       "      <td>NaN</td>\n",
       "      <td>NaN</td>\n",
       "      <td>NaN</td>\n",
       "      <td>NaN</td>\n",
       "    </tr>\n",
       "    <tr>\n",
       "      <th>4</th>\n",
       "      <td>6</td>\n",
       "      <td>9572.4</td>\n",
       "      <td>1.949359</td>\n",
       "      <td>5.0</td>\n",
       "      <td>2921.8</td>\n",
       "      <td>2996.103920</td>\n",
       "      <td>7083.0</td>\n",
       "      <td>5</td>\n",
       "      <td>1.0</td>\n",
       "      <td>NaN</td>\n",
       "      <td>...</td>\n",
       "      <td>0.0</td>\n",
       "      <td>NaN</td>\n",
       "      <td>NaN</td>\n",
       "      <td>NaN</td>\n",
       "      <td>NaN</td>\n",
       "      <td>NaN</td>\n",
       "      <td>NaN</td>\n",
       "      <td>NaN</td>\n",
       "      <td>NaN</td>\n",
       "      <td>NaN</td>\n",
       "    </tr>\n",
       "    <tr>\n",
       "      <th>...</th>\n",
       "      <td>...</td>\n",
       "      <td>...</td>\n",
       "      <td>...</td>\n",
       "      <td>...</td>\n",
       "      <td>...</td>\n",
       "      <td>...</td>\n",
       "      <td>...</td>\n",
       "      <td>...</td>\n",
       "      <td>...</td>\n",
       "      <td>...</td>\n",
       "      <td>...</td>\n",
       "      <td>...</td>\n",
       "      <td>...</td>\n",
       "      <td>...</td>\n",
       "      <td>...</td>\n",
       "      <td>...</td>\n",
       "      <td>...</td>\n",
       "      <td>...</td>\n",
       "      <td>...</td>\n",
       "      <td>...</td>\n",
       "      <td>...</td>\n",
       "    </tr>\n",
       "    <tr>\n",
       "      <th>9995</th>\n",
       "      <td>9877</td>\n",
       "      <td>NaN</td>\n",
       "      <td>NaN</td>\n",
       "      <td>NaN</td>\n",
       "      <td>NaN</td>\n",
       "      <td>NaN</td>\n",
       "      <td>NaN</td>\n",
       "      <td>0</td>\n",
       "      <td>0.0</td>\n",
       "      <td>9572.4</td>\n",
       "      <td>...</td>\n",
       "      <td>1.0</td>\n",
       "      <td>9573.4</td>\n",
       "      <td>1.949359</td>\n",
       "      <td>5.0</td>\n",
       "      <td>1.610976</td>\n",
       "      <td>0.000956</td>\n",
       "      <td>0.002268</td>\n",
       "      <td>1.610976</td>\n",
       "      <td>0.000956</td>\n",
       "      <td>0.002268</td>\n",
       "    </tr>\n",
       "    <tr>\n",
       "      <th>9996</th>\n",
       "      <td>9903</td>\n",
       "      <td>NaN</td>\n",
       "      <td>NaN</td>\n",
       "      <td>NaN</td>\n",
       "      <td>NaN</td>\n",
       "      <td>NaN</td>\n",
       "      <td>NaN</td>\n",
       "      <td>0</td>\n",
       "      <td>0.0</td>\n",
       "      <td>9572.4</td>\n",
       "      <td>...</td>\n",
       "      <td>1.0</td>\n",
       "      <td>9573.4</td>\n",
       "      <td>1.949359</td>\n",
       "      <td>5.0</td>\n",
       "      <td>1.544390</td>\n",
       "      <td>0.000956</td>\n",
       "      <td>0.002268</td>\n",
       "      <td>1.544390</td>\n",
       "      <td>0.000956</td>\n",
       "      <td>0.002268</td>\n",
       "    </tr>\n",
       "    <tr>\n",
       "      <th>9997</th>\n",
       "      <td>9958</td>\n",
       "      <td>NaN</td>\n",
       "      <td>NaN</td>\n",
       "      <td>NaN</td>\n",
       "      <td>NaN</td>\n",
       "      <td>NaN</td>\n",
       "      <td>NaN</td>\n",
       "      <td>0</td>\n",
       "      <td>0.0</td>\n",
       "      <td>9572.4</td>\n",
       "      <td>...</td>\n",
       "      <td>1.0</td>\n",
       "      <td>9573.4</td>\n",
       "      <td>1.949359</td>\n",
       "      <td>5.0</td>\n",
       "      <td>1.307906</td>\n",
       "      <td>0.000956</td>\n",
       "      <td>0.002268</td>\n",
       "      <td>1.307906</td>\n",
       "      <td>0.000956</td>\n",
       "      <td>0.002268</td>\n",
       "    </tr>\n",
       "    <tr>\n",
       "      <th>9998</th>\n",
       "      <td>9962</td>\n",
       "      <td>NaN</td>\n",
       "      <td>NaN</td>\n",
       "      <td>NaN</td>\n",
       "      <td>NaN</td>\n",
       "      <td>NaN</td>\n",
       "      <td>NaN</td>\n",
       "      <td>0</td>\n",
       "      <td>0.0</td>\n",
       "      <td>9572.4</td>\n",
       "      <td>...</td>\n",
       "      <td>1.0</td>\n",
       "      <td>9573.4</td>\n",
       "      <td>1.949359</td>\n",
       "      <td>5.0</td>\n",
       "      <td>1.689130</td>\n",
       "      <td>0.000956</td>\n",
       "      <td>0.002268</td>\n",
       "      <td>1.689130</td>\n",
       "      <td>0.000956</td>\n",
       "      <td>0.002268</td>\n",
       "    </tr>\n",
       "    <tr>\n",
       "      <th>9999</th>\n",
       "      <td>9969</td>\n",
       "      <td>NaN</td>\n",
       "      <td>NaN</td>\n",
       "      <td>NaN</td>\n",
       "      <td>NaN</td>\n",
       "      <td>NaN</td>\n",
       "      <td>NaN</td>\n",
       "      <td>0</td>\n",
       "      <td>0.0</td>\n",
       "      <td>9572.4</td>\n",
       "      <td>...</td>\n",
       "      <td>1.0</td>\n",
       "      <td>9573.4</td>\n",
       "      <td>1.949359</td>\n",
       "      <td>5.0</td>\n",
       "      <td>1.634929</td>\n",
       "      <td>0.000956</td>\n",
       "      <td>0.002268</td>\n",
       "      <td>1.634929</td>\n",
       "      <td>0.000956</td>\n",
       "      <td>0.002268</td>\n",
       "    </tr>\n",
       "  </tbody>\n",
       "</table>\n",
       "<p>10000 rows × 26 columns</p>\n",
       "</div>"
      ],
      "text/plain": [
       "      site  skeleton dose, excluded  skeleton dose std, excluded  \\\n",
       "0        0                   9572.4                     1.949359   \n",
       "1        3                   9572.4                     1.949359   \n",
       "2        4                   9572.4                     1.949359   \n",
       "3        5                   9572.4                     1.949359   \n",
       "4        6                   9572.4                     1.949359   \n",
       "...    ...                      ...                          ...   \n",
       "9995  9877                      NaN                          NaN   \n",
       "9996  9903                      NaN                          NaN   \n",
       "9997  9958                      NaN                          NaN   \n",
       "9998  9962                      NaN                          NaN   \n",
       "9999  9969                      NaN                          NaN   \n",
       "\n",
       "      skeleton dose ptp, excluded  skeleton exclusion order, excluded  \\\n",
       "0                             5.0                              6112.8   \n",
       "1                             5.0                              1673.2   \n",
       "2                             5.0                              4427.4   \n",
       "3                             5.0                              3214.2   \n",
       "4                             5.0                              2921.8   \n",
       "...                           ...                                 ...   \n",
       "9995                          NaN                                 NaN   \n",
       "9996                          NaN                                 NaN   \n",
       "9997                          NaN                                 NaN   \n",
       "9998                          NaN                                 NaN   \n",
       "9999                          NaN                                 NaN   \n",
       "\n",
       "      skeleton exclusion order std, excluded  \\\n",
       "0                                2598.985321   \n",
       "1                                 743.405475   \n",
       "2                                2198.958003   \n",
       "3                                2742.844363   \n",
       "4                                2996.103920   \n",
       "...                                      ...   \n",
       "9995                                     NaN   \n",
       "9996                                     NaN   \n",
       "9997                                     NaN   \n",
       "9998                                     NaN   \n",
       "9999                                     NaN   \n",
       "\n",
       "      skeleton exclusion order ptp, excluded  \\\n",
       "0                                     6445.0   \n",
       "1                                     1939.0   \n",
       "2                                     5792.0   \n",
       "3                                     7034.0   \n",
       "4                                     7083.0   \n",
       "...                                      ...   \n",
       "9995                                     NaN   \n",
       "9996                                     NaN   \n",
       "9997                                     NaN   \n",
       "9998                                     NaN   \n",
       "9999                                     NaN   \n",
       "\n",
       "      skeleton outcome count, excluded  skeleton outcome frequency, excluded  \\\n",
       "0                                    5                                   1.0   \n",
       "1                                    5                                   1.0   \n",
       "2                                    5                                   1.0   \n",
       "3                                    5                                   1.0   \n",
       "4                                    5                                   1.0   \n",
       "...                                ...                                   ...   \n",
       "9995                                 0                                   0.0   \n",
       "9996                                 0                                   0.0   \n",
       "9997                                 0                                   0.0   \n",
       "9998                                 0                                   0.0   \n",
       "9999                                 0                                   0.0   \n",
       "\n",
       "      skeleton dose, included  ...  skeleton outcome frequency, included  \\\n",
       "0                         NaN  ...                                   0.0   \n",
       "1                         NaN  ...                                   0.0   \n",
       "2                         NaN  ...                                   0.0   \n",
       "3                         NaN  ...                                   0.0   \n",
       "4                         NaN  ...                                   0.0   \n",
       "...                       ...  ...                                   ...   \n",
       "9995                   9572.4  ...                                   1.0   \n",
       "9996                   9572.4  ...                                   1.0   \n",
       "9997                   9572.4  ...                                   1.0   \n",
       "9998                   9572.4  ...                                   1.0   \n",
       "9999                   9572.4  ...                                   1.0   \n",
       "\n",
       "      jackknife dose  jackknife dose std  jackknife dose ptp  \\\n",
       "0                NaN                 NaN                 NaN   \n",
       "1                NaN                 NaN                 NaN   \n",
       "2                NaN                 NaN                 NaN   \n",
       "3                NaN                 NaN                 NaN   \n",
       "4                NaN                 NaN                 NaN   \n",
       "...              ...                 ...                 ...   \n",
       "9995          9573.4            1.949359                 5.0   \n",
       "9996          9573.4            1.949359                 5.0   \n",
       "9997          9573.4            1.949359                 5.0   \n",
       "9998          9573.4            1.949359                 5.0   \n",
       "9999          9573.4            1.949359                 5.0   \n",
       "\n",
       "      raw jackknife result  raw jackknife result std  \\\n",
       "0                      NaN                       NaN   \n",
       "1                      NaN                       NaN   \n",
       "2                      NaN                       NaN   \n",
       "3                      NaN                       NaN   \n",
       "4                      NaN                       NaN   \n",
       "...                    ...                       ...   \n",
       "9995              1.610976                  0.000956   \n",
       "9996              1.544390                  0.000956   \n",
       "9997              1.307906                  0.000956   \n",
       "9998              1.689130                  0.000956   \n",
       "9999              1.634929                  0.000956   \n",
       "\n",
       "      raw jackknife result ptp  jackknife result  jackknife result std  \\\n",
       "0                          NaN               NaN                   NaN   \n",
       "1                          NaN               NaN                   NaN   \n",
       "2                          NaN               NaN                   NaN   \n",
       "3                          NaN               NaN                   NaN   \n",
       "4                          NaN               NaN                   NaN   \n",
       "...                        ...               ...                   ...   \n",
       "9995                  0.002268          1.610976              0.000956   \n",
       "9996                  0.002268          1.544390              0.000956   \n",
       "9997                  0.002268          1.307906              0.000956   \n",
       "9998                  0.002268          1.689130              0.000956   \n",
       "9999                  0.002268          1.634929              0.000956   \n",
       "\n",
       "      jackknife result ptp  \n",
       "0                      NaN  \n",
       "1                      NaN  \n",
       "2                      NaN  \n",
       "3                      NaN  \n",
       "4                      NaN  \n",
       "...                    ...  \n",
       "9995              0.002268  \n",
       "9996              0.002268  \n",
       "9997              0.002268  \n",
       "9998              0.002268  \n",
       "9999              0.002268  \n",
       "\n",
       "[10000 rows x 26 columns]"
      ]
     },
     "execution_count": 9,
     "metadata": {},
     "output_type": "execute_result"
    }
   ],
   "source": [
    "df_skeletons = describe_skeletons(skeletons, genome.test_knockout)\n",
    "\n",
    "df_skeletons\n"
   ]
  },
  {
   "cell_type": "markdown",
   "metadata": {},
   "source": [
    "How many unique sites show up in any skeleton?\n",
    "(i.e., num sites with direct evidence of functionality)\n"
   ]
  },
  {
   "cell_type": "code",
   "execution_count": 10,
   "metadata": {
    "execution": {
     "iopub.execute_input": "2024-02-09T04:13:01.872986Z",
     "iopub.status.busy": "2024-02-09T04:13:01.872803Z",
     "iopub.status.idle": "2024-02-09T04:13:01.877053Z",
     "shell.execute_reply": "2024-02-09T04:13:01.876478Z"
    }
   },
   "outputs": [
    {
     "data": {
      "text/plain": [
       "504"
      ]
     },
     "execution_count": 10,
     "metadata": {},
     "output_type": "execute_result"
    }
   ],
   "source": [
    "np.any(\n",
    "    (~skeletons.astype(bool)),\n",
    "    axis=0,\n",
    ").sum()\n"
   ]
  },
  {
   "cell_type": "markdown",
   "metadata": {},
   "source": [
    "## Estimate Number Functional Sites\n"
   ]
  },
  {
   "cell_type": "markdown",
   "metadata": {},
   "source": [
    "The skeletonization process can actually be interpreted as a mark-recapture experiment.\n",
    "Just like field researchers counting rabbits, we can estimate the total population of functional sites from the rate at which we \"re-capture\" specimens.\n",
    "(Here, \"re-capture\" means that a site is included in more than one skeleton.)\n",
    "\n",
    "Note that statistics taking into account bias in capture probability (aka \"trap shyness\") are necessary.\n",
    "This implementation uses a nonparametric jackknife estimator due to Burnham and Overton (see source code for details).\n"
   ]
  },
  {
   "cell_type": "code",
   "execution_count": 11,
   "metadata": {
    "execution": {
     "iopub.execute_input": "2024-02-09T04:13:01.879314Z",
     "iopub.status.busy": "2024-02-09T04:13:01.878991Z",
     "iopub.status.idle": "2024-02-09T04:13:01.884709Z",
     "shell.execute_reply": "2024-02-09T04:13:01.884146Z"
    }
   },
   "outputs": [
    {
     "data": {
      "text/plain": [
       "{'num sites estimate': 558.3499999999999,\n",
       " 'num sites 95% CI': (533.2059805122569, 583.4940194877429)}"
      ]
     },
     "execution_count": 11,
     "metadata": {},
     "output_type": "execute_result"
    }
   ],
   "source": [
    "assay_agnostic_naive(df_skeletons)\n"
   ]
  },
  {
   "cell_type": "markdown",
   "metadata": {},
   "source": [
    "For comparison the actual number of functional sites is\n"
   ]
  },
  {
   "cell_type": "code",
   "execution_count": 12,
   "metadata": {
    "execution": {
     "iopub.execute_input": "2024-02-09T04:13:01.886934Z",
     "iopub.status.busy": "2024-02-09T04:13:01.886611Z",
     "iopub.status.idle": "2024-02-09T04:13:01.890186Z",
     "shell.execute_reply": "2024-02-09T04:13:01.889604Z"
    }
   },
   "outputs": [
    {
     "data": {
      "text/plain": [
       "555"
      ]
     },
     "execution_count": 12,
     "metadata": {},
     "output_type": "execute_result"
    }
   ],
   "source": [
    "num_functional_sites\n"
   ]
  }
 ],
 "metadata": {
  "kernelspec": {
   "display_name": "env",
   "language": "python",
   "name": "python3"
  },
  "language_info": {
   "codemirror_mode": {
    "name": "ipython",
    "version": 3
   },
   "file_extension": ".py",
   "mimetype": "text/x-python",
   "name": "python",
   "nbconvert_exporter": "python",
   "pygments_lexer": "ipython3",
   "version": "3.10.12"
  }
 },
 "nbformat": 4,
 "nbformat_minor": 2
}
