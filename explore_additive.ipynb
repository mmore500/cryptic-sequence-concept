{
 "cells": [
  {
   "cell_type": "markdown",
   "metadata": {},
   "source": [
    "# Exploratory Demo of Additive Site Methods\n"
   ]
  },
  {
   "cell_type": "markdown",
   "metadata": {},
   "source": [
    "*Goal:* infer prevalence of additive, small-effect genome sites from knockout experiments.\n",
    "\n",
    "**Outline:**\n",
    "- Generate example genome\n",
    "- Survey outcomes across a range of knockout doses (number of sites knocked out) in order to choose dose levels to focus testing on\n",
    "   - want doses where detectable fitness effects occur *sometimes* (but not *always* or *never*)\n",
    "- For each chosen dose level, do many knockout experiments to measure probability of detectable fitness effect at that dose\n",
    "- Fit negative binomial distribution to estimate underlying quantity of small-effect sites and their effect sizes\n"
   ]
  },
  {
   "cell_type": "markdown",
   "metadata": {},
   "source": [
    "## Preliminaries\n"
   ]
  },
  {
   "cell_type": "code",
   "execution_count": 1,
   "metadata": {
    "execution": {
     "iopub.execute_input": "2024-05-31T11:57:43.773270Z",
     "iopub.status.busy": "2024-05-31T11:57:43.773099Z",
     "iopub.status.idle": "2024-05-31T11:57:44.252030Z",
     "shell.execute_reply": "2024-05-31T11:57:44.251391Z"
    }
   },
   "outputs": [],
   "source": [
    "import numpy as np\n",
    "\n",
    "from pylib.analyze_additive import (\n",
    "    assay_additive_naive,\n",
    "    pick_doses_extrema,\n",
    ")\n",
    "from pylib.modelsys_explicit import GenomeExplicit\n",
    "from pylib.modelsys_explicit import (\n",
    "    CalcKnockoutEffectsAdditive,\n",
    "    create_additive_array,\n",
    "    GenomeExplicit,\n",
    ")\n"
   ]
  },
  {
   "cell_type": "markdown",
   "metadata": {},
   "source": [
    "Method implementations are organized as external Python source files within the local `pylib` directory.\n"
   ]
  },
  {
   "cell_type": "code",
   "execution_count": 2,
   "metadata": {
    "execution": {
     "iopub.execute_input": "2024-05-31T11:57:44.254675Z",
     "iopub.status.busy": "2024-05-31T11:57:44.254417Z",
     "iopub.status.idle": "2024-05-31T11:57:44.257194Z",
     "shell.execute_reply": "2024-05-31T11:57:44.256712Z"
    }
   },
   "outputs": [],
   "source": [
    "np.random.seed(1234)\n"
   ]
  },
  {
   "cell_type": "markdown",
   "metadata": {},
   "source": [
    "Ensure reproducibility.\n"
   ]
  },
  {
   "cell_type": "markdown",
   "metadata": {},
   "source": [
    "## Set Up Sample Genome\n"
   ]
  },
  {
   "cell_type": "markdown",
   "metadata": {},
   "source": [
    "Create a genome with 1,000 distinct sites, with 5% having an additive fitness effect when knocked out.\n",
    "Effect sizes are distributed uniformly between 0 and 0.2, relative to the detectability threshold of 1.0.\n"
   ]
  },
  {
   "cell_type": "code",
   "execution_count": 3,
   "metadata": {
    "execution": {
     "iopub.execute_input": "2024-05-31T11:57:44.259589Z",
     "iopub.status.busy": "2024-05-31T11:57:44.259177Z",
     "iopub.status.idle": "2024-05-31T11:57:44.262360Z",
     "shell.execute_reply": "2024-05-31T11:57:44.261875Z"
    }
   },
   "outputs": [],
   "source": [
    "num_sites = 1000\n",
    "distn = lambda x: np.random.rand(x) * 0.2  # mean effect size of 0.1\n",
    "additive_array = create_additive_array(num_sites, 0.05, distn)\n",
    "genome = GenomeExplicit(\n",
    "    [CalcKnockoutEffectsAdditive(additive_array)],\n",
    ")\n"
   ]
  },
  {
   "cell_type": "markdown",
   "metadata": {},
   "source": [
    "The true number of additive sites is\n"
   ]
  },
  {
   "cell_type": "code",
   "execution_count": 4,
   "metadata": {
    "execution": {
     "iopub.execute_input": "2024-05-31T11:57:44.264410Z",
     "iopub.status.busy": "2024-05-31T11:57:44.264244Z",
     "iopub.status.idle": "2024-05-31T11:57:44.269816Z",
     "shell.execute_reply": "2024-05-31T11:57:44.269233Z"
    }
   },
   "outputs": [
    {
     "data": {
      "text/plain": [
       "50"
      ]
     },
     "execution_count": 4,
     "metadata": {},
     "output_type": "execute_result"
    }
   ],
   "source": [
    "num_additive_sites = additive_array.astype(bool).sum()\n",
    "num_additive_sites\n"
   ]
  },
  {
   "cell_type": "markdown",
   "metadata": {},
   "source": [
    "## Choose Dose Levels\n"
   ]
  },
  {
   "cell_type": "markdown",
   "metadata": {},
   "source": [
    "Perform exploratory knockout experiments at a broad range of dose levels to decide the knockout doses to focus on testing.\n"
   ]
  },
  {
   "cell_type": "code",
   "execution_count": 5,
   "metadata": {
    "execution": {
     "iopub.execute_input": "2024-05-31T11:57:44.298894Z",
     "iopub.status.busy": "2024-05-31T11:57:44.298679Z",
     "iopub.status.idle": "2024-05-31T11:57:44.322302Z",
     "shell.execute_reply": "2024-05-31T11:57:44.321824Z"
    }
   },
   "outputs": [
    {
     "data": {
      "text/plain": [
       "array([ 87, 136, 186, 236, 286])"
      ]
     },
     "execution_count": 5,
     "metadata": {},
     "output_type": "execute_result"
    }
   ],
   "source": [
    "knockout_doses = pick_doses_extrema(\n",
    "    genome.test_knockout, num_sites, max_doses=5, smear_count=250\n",
    ")\n",
    "knockout_doses\n"
   ]
  },
  {
   "cell_type": "markdown",
   "metadata": {},
   "source": [
    "## Estimate Additive Site Prevalence\n"
   ]
  },
  {
   "cell_type": "markdown",
   "metadata": {},
   "source": [
    "Do 1,000 knockout tests at each dose, fit distribution to observed sensitivity rates at each dose, and then estimate per-site effect size and num additive sites.\n"
   ]
  },
  {
   "cell_type": "code",
   "execution_count": 6,
   "metadata": {
    "execution": {
     "iopub.execute_input": "2024-05-31T11:57:44.324376Z",
     "iopub.status.busy": "2024-05-31T11:57:44.324206Z",
     "iopub.status.idle": "2024-05-31T11:57:49.071537Z",
     "shell.execute_reply": "2024-05-31T11:57:49.070863Z"
    }
   },
   "outputs": [
    {
     "data": {
      "text/plain": [
       "{'num additive sites': 50.0,\n",
       " 'per-site effect size': 0.1,\n",
       " 'negative binomial fit': {'r': 10,\n",
       "  'p': 0.05,\n",
       "  'fit quantiles': [0.011607600050082314,\n",
       "   0.1443781613704493,\n",
       "   0.4530475032674642,\n",
       "   0.7462911216433314,\n",
       "   0.9097429398280551],\n",
       "  'error': 0.0008510447653139157},\n",
       " 'knockout doses': array([ 87, 136, 186, 236, 286]),\n",
       " 'dose sensitivies': [0.013, 0.141, 0.43, 0.729, 0.907]}"
      ]
     },
     "metadata": {},
     "output_type": "display_data"
    }
   ],
   "source": [
    "est = assay_additive_naive(\n",
    "    genome.test_knockout, num_sites, knockout_doses, num_replications=1000\n",
    ")\n",
    "display(est)\n"
   ]
  },
  {
   "cell_type": "code",
   "execution_count": 7,
   "metadata": {
    "execution": {
     "iopub.execute_input": "2024-05-31T11:57:49.073878Z",
     "iopub.status.busy": "2024-05-31T11:57:49.073668Z",
     "iopub.status.idle": "2024-05-31T11:57:49.076875Z",
     "shell.execute_reply": "2024-05-31T11:57:49.076298Z"
    }
   },
   "outputs": [
    {
     "name": "stdout",
     "output_type": "stream",
     "text": [
      "actual 50\n",
      "estimated 50.0\n"
     ]
    }
   ],
   "source": [
    "print(\"actual\", num_additive_sites)\n",
    "print(\"estimated\", est[\"num additive sites\"])\n"
   ]
  }
 ],
 "metadata": {
  "kernelspec": {
   "display_name": "env",
   "language": "python",
   "name": "python3"
  },
  "language_info": {
   "codemirror_mode": {
    "name": "ipython",
    "version": 3
   },
   "file_extension": ".py",
   "mimetype": "text/x-python",
   "name": "python",
   "nbconvert_exporter": "python",
   "pygments_lexer": "ipython3",
   "version": "3.10.12"
  }
 },
 "nbformat": 4,
 "nbformat_minor": 2
}
