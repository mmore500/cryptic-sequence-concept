{
 "cells": [
  {
   "cell_type": "markdown",
   "metadata": {},
   "source": [
    "# Exploratory Demo of Additive Site Methods\n"
   ]
  },
  {
   "cell_type": "markdown",
   "metadata": {},
   "source": [
    "*Goal:* infer prevalence of additive, small-effect genome sites from knockout experiments.\n",
    "\n",
    "**Outline:**\n",
    "- Generate example genome\n",
    "- Survey outcomes across a range of knockout doses (number of sites knocked out) in order to choose dose levels to focus testing on\n",
    "   - want doses where detectable fitness effects occur *sometimes* (but not *always* or *never*)\n",
    "- For each chosen dose level, do many knockout experiments to measure probability of detectable fitness effect at that dose\n",
    "- Fit negative binomial distribution to estimate underlying quantity of small-effect sites and their effect sizes\n"
   ]
  },
  {
   "cell_type": "markdown",
   "metadata": {},
   "source": [
    "## Preliminaries\n"
   ]
  },
  {
   "cell_type": "code",
   "execution_count": 1,
   "metadata": {
    "execution": {
     "iopub.execute_input": "2024-09-22T00:11:44.946759Z",
     "iopub.status.busy": "2024-09-22T00:11:44.946577Z",
     "iopub.status.idle": "2024-09-22T00:11:45.428349Z",
     "shell.execute_reply": "2024-09-22T00:11:45.427846Z"
    }
   },
   "outputs": [],
   "source": [
    "import numpy as np\n",
    "\n",
    "from pylib.analyze_additive import (\n",
    "    assay_additive_naive,\n",
    "    pick_doses_extrema,\n",
    ")\n",
    "from pylib.modelsys_explicit import GenomeExplicit\n",
    "from pylib.modelsys_explicit import (\n",
    "    CalcKnockoutEffectsAdditive,\n",
    "    create_additive_array,\n",
    "    GenomeExplicit,\n",
    ")\n"
   ]
  },
  {
   "cell_type": "markdown",
   "metadata": {},
   "source": [
    "Method implementations are organized as external Python source files within the local `pylib` directory.\n"
   ]
  },
  {
   "cell_type": "code",
   "execution_count": 2,
   "metadata": {
    "execution": {
     "iopub.execute_input": "2024-09-22T00:11:45.431135Z",
     "iopub.status.busy": "2024-09-22T00:11:45.430745Z",
     "iopub.status.idle": "2024-09-22T00:11:45.433475Z",
     "shell.execute_reply": "2024-09-22T00:11:45.432969Z"
    }
   },
   "outputs": [],
   "source": [
    "np.random.seed(1234)\n"
   ]
  },
  {
   "cell_type": "markdown",
   "metadata": {},
   "source": [
    "Ensure reproducibility.\n"
   ]
  },
  {
   "cell_type": "markdown",
   "metadata": {},
   "source": [
    "## Set Up Sample Genome\n"
   ]
  },
  {
   "cell_type": "markdown",
   "metadata": {},
   "source": [
    "Create a genome with 1,000 distinct sites, with 5% having an additive fitness effect when knocked out.\n",
    "Effect sizes are distributed uniformly between 0 and 0.2, relative to the detectability threshold of 1.0.\n"
   ]
  },
  {
   "cell_type": "code",
   "execution_count": 3,
   "metadata": {
    "execution": {
     "iopub.execute_input": "2024-09-22T00:11:45.435666Z",
     "iopub.status.busy": "2024-09-22T00:11:45.435481Z",
     "iopub.status.idle": "2024-09-22T00:11:45.438810Z",
     "shell.execute_reply": "2024-09-22T00:11:45.438316Z"
    }
   },
   "outputs": [],
   "source": [
    "num_sites = 1000\n",
    "distn = lambda x: np.random.rand(x) * 0.7  # mean effect size of 0.35\n",
    "additive_array = create_additive_array(num_sites, 0.05, distn)\n",
    "genome = GenomeExplicit(\n",
    "    [CalcKnockoutEffectsAdditive(additive_array)],\n",
    ")\n"
   ]
  },
  {
   "cell_type": "markdown",
   "metadata": {},
   "source": [
    "The true number of additive sites is\n"
   ]
  },
  {
   "cell_type": "code",
   "execution_count": 4,
   "metadata": {
    "execution": {
     "iopub.execute_input": "2024-09-22T00:11:45.441069Z",
     "iopub.status.busy": "2024-09-22T00:11:45.440734Z",
     "iopub.status.idle": "2024-09-22T00:11:45.446348Z",
     "shell.execute_reply": "2024-09-22T00:11:45.445761Z"
    }
   },
   "outputs": [
    {
     "data": {
      "text/plain": [
       "50"
      ]
     },
     "execution_count": 4,
     "metadata": {},
     "output_type": "execute_result"
    }
   ],
   "source": [
    "num_additive_sites = additive_array.astype(bool).sum()\n",
    "num_additive_sites\n"
   ]
  },
  {
   "cell_type": "markdown",
   "metadata": {},
   "source": [
    "## Choose Dose Levels\n"
   ]
  },
  {
   "cell_type": "markdown",
   "metadata": {},
   "source": [
    "Perform exploratory knockout experiments at a broad range of dose levels to decide the knockout doses to focus on testing.\n"
   ]
  },
  {
   "cell_type": "code",
   "execution_count": 5,
   "metadata": {
    "execution": {
     "iopub.execute_input": "2024-09-22T00:11:45.477163Z",
     "iopub.status.busy": "2024-09-22T00:11:45.476777Z",
     "iopub.status.idle": "2024-09-22T00:11:45.491397Z",
     "shell.execute_reply": "2024-09-22T00:11:45.490905Z"
    }
   },
   "outputs": [
    {
     "data": {
      "text/plain": [
       "array([ 25,  53,  82, 111, 140])"
      ]
     },
     "execution_count": 5,
     "metadata": {},
     "output_type": "execute_result"
    }
   ],
   "source": [
    "knockout_doses = pick_doses_extrema(\n",
    "    genome.test_knockout, num_sites, max_doses=5, smear_count=250\n",
    ")\n",
    "knockout_doses\n"
   ]
  },
  {
   "cell_type": "markdown",
   "metadata": {},
   "source": [
    "## Estimate Additive Site Prevalence\n"
   ]
  },
  {
   "cell_type": "markdown",
   "metadata": {},
   "source": [
    "Do 1,000 knockout tests at each dose, fit distribution to observed sensitivity rates at each dose, and then estimate per-site effect size and num additive sites.\n"
   ]
  },
  {
   "cell_type": "code",
   "execution_count": 6,
   "metadata": {
    "execution": {
     "iopub.execute_input": "2024-09-22T00:11:45.493715Z",
     "iopub.status.busy": "2024-09-22T00:11:45.493364Z",
     "iopub.status.idle": "2024-09-22T00:11:49.651132Z",
     "shell.execute_reply": "2024-09-22T00:11:49.650562Z"
    }
   },
   "outputs": [
    {
     "data": {
      "text/plain": [
       "{'num additive sites': 30.0,\n",
       " 'per-site effect size': 0.5,\n",
       " 'negative binomial fit': {'r': 2,\n",
       "  'p': 0.03,\n",
       "  'fit quantiles': [0.17196237831183514,\n",
       "   0.4747450581391982,\n",
       "   0.7090592221553703,\n",
       "   0.8492146234542075,\n",
       "   0.9250517311316833],\n",
       "  'error': 0.006826150230427061},\n",
       " 'knockout doses': array([ 25,  53,  82, 111, 140]),\n",
       " 'dose sensitivies': [0.141, 0.411, 0.723, 0.878, 0.953]}"
      ]
     },
     "metadata": {},
     "output_type": "display_data"
    }
   ],
   "source": [
    "est = assay_additive_naive(\n",
    "    genome.test_knockout, num_sites, knockout_doses, num_replications=1000\n",
    ")\n",
    "display(est)\n"
   ]
  },
  {
   "cell_type": "code",
   "execution_count": 7,
   "metadata": {
    "execution": {
     "iopub.execute_input": "2024-09-22T00:11:49.653478Z",
     "iopub.status.busy": "2024-09-22T00:11:49.653131Z",
     "iopub.status.idle": "2024-09-22T00:11:49.656138Z",
     "shell.execute_reply": "2024-09-22T00:11:49.655609Z"
    }
   },
   "outputs": [
    {
     "name": "stdout",
     "output_type": "stream",
     "text": [
      "actual 50\n",
      "estimated 30.0\n"
     ]
    }
   ],
   "source": [
    "print(\"actual\", num_additive_sites)\n",
    "print(\"estimated\", est[\"num additive sites\"])\n"
   ]
  }
 ],
 "metadata": {
  "kernelspec": {
   "display_name": "env",
   "language": "python",
   "name": "python3"
  },
  "language_info": {
   "codemirror_mode": {
    "name": "ipython",
    "version": 3
   },
   "file_extension": ".py",
   "mimetype": "text/x-python",
   "name": "python",
   "nbconvert_exporter": "python",
   "pygments_lexer": "ipython3",
   "version": "3.10.12"
  }
 },
 "nbformat": 4,
 "nbformat_minor": 2
}
