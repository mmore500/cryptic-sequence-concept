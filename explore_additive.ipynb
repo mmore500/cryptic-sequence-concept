{
 "cells": [
  {
   "cell_type": "code",
   "execution_count": 1,
   "metadata": {
    "execution": {
     "iopub.execute_input": "2024-01-12T01:29:11.489721Z",
     "iopub.status.busy": "2024-01-12T01:29:11.489319Z",
     "iopub.status.idle": "2024-01-12T01:29:11.964772Z",
     "shell.execute_reply": "2024-01-12T01:29:11.964205Z"
    }
   },
   "outputs": [],
   "source": [
    "import numpy as np\n",
    "\n",
    "from pylib.analyze_additive import (\n",
    "    assay_additive_naive,\n",
    "    pick_doses_extrema,\n",
    ")\n",
    "from pylib.modelsys_explicit import GenomeExplicit\n",
    "from pylib.modelsys_explicit import (\n",
    "    GenomeExplicit,\n",
    "    CalcKnockoutEffectsAdditive,\n",
    "    create_additive_array,\n",
    ")\n"
   ]
  },
  {
   "cell_type": "code",
   "execution_count": 2,
   "metadata": {
    "execution": {
     "iopub.execute_input": "2024-01-12T01:29:11.967470Z",
     "iopub.status.busy": "2024-01-12T01:29:11.967060Z",
     "iopub.status.idle": "2024-01-12T01:29:11.969801Z",
     "shell.execute_reply": "2024-01-12T01:29:11.969316Z"
    }
   },
   "outputs": [],
   "source": [
    "np.random.seed(1234)\n"
   ]
  },
  {
   "cell_type": "code",
   "execution_count": 3,
   "metadata": {
    "execution": {
     "iopub.execute_input": "2024-01-12T01:29:11.972157Z",
     "iopub.status.busy": "2024-01-12T01:29:11.971830Z",
     "iopub.status.idle": "2024-01-12T01:29:30.754570Z",
     "shell.execute_reply": "2024-01-12T01:29:30.753922Z"
    }
   },
   "outputs": [
    {
     "data": {
      "text/plain": [
       "{'num additive sites': 60.0,\n",
       " 'per-site effect size': 0.07692307692307693,\n",
       " 'negative binomial fit': {'r': 13,\n",
       "  'p': 0.06,\n",
       "  'fit quantiles': [0.006879833407397874,\n",
       "   0.113119404469053,\n",
       "   0.4169207581176875,\n",
       "   0.7350341276676735,\n",
       "   0.9128724581627263],\n",
       "  'error': 0.0010567470760802563},\n",
       " 'knockout doses': array([ 87, 136, 186, 236, 286]),\n",
       " 'dose sensitivies': [0.013, 0.141, 0.43, 0.729, 0.907],\n",
       " 'replicate': 0}"
      ]
     },
     "metadata": {},
     "output_type": "display_data"
    },
    {
     "data": {
      "text/plain": [
       "{'num additive sites': 60.0,\n",
       " 'per-site effect size': 0.07692307692307693,\n",
       " 'negative binomial fit': {'r': 13,\n",
       "  'p': 0.06,\n",
       "  'fit quantiles': [0.00013157415559483852,\n",
       "   0.028288547950049425,\n",
       "   0.25314546799705695,\n",
       "   0.6210113981149791,\n",
       "   0.8746535238053175],\n",
       "  'error': 0.001522870453900882},\n",
       " 'knockout doses': array([ 53, 107, 162, 216, 271]),\n",
       " 'dose sensitivies': [0.002, 0.049, 0.228, 0.641, 0.867],\n",
       " 'replicate': 1}"
      ]
     },
     "metadata": {},
     "output_type": "display_data"
    },
    {
     "data": {
      "text/plain": [
       "{'num additive sites': 60.0,\n",
       " 'per-site effect size': 0.09090909090909091,\n",
       " 'negative binomial fit': {'r': 11,\n",
       "  'p': 0.06,\n",
       "  'fit quantiles': [0.0074642402771499606,\n",
       "   0.1526220282316475,\n",
       "   0.5190417344167527,\n",
       "   0.823047812179635,\n",
       "   0.9539342223368675],\n",
       "  'error': 0.0006042564650722695},\n",
       " 'knockout doses': array([ 68, 118, 169, 220, 271]),\n",
       " 'dose sensitivies': [0.017, 0.169, 0.516, 0.808, 0.957],\n",
       " 'replicate': 2}"
      ]
     },
     "metadata": {},
     "output_type": "display_data"
    },
    {
     "data": {
      "text/plain": [
       "{'num additive sites': 50.0,\n",
       " 'per-site effect size': 0.08333333333333333,\n",
       " 'negative binomial fit': {'r': 12,\n",
       "  'p': 0.05,\n",
       "  'fit quantiles': [0.04252235505238708,\n",
       "   0.09930405629403236,\n",
       "   0.191949275878094,\n",
       "   0.30607872270943326,\n",
       "   0.439072773832932],\n",
       "  'error': 0.0008688376322210246},\n",
       " 'knockout doses': array([125, 146, 168, 189, 211]),\n",
       " 'dose sensitivies': [0.067, 0.115, 0.194, 0.308, 0.443],\n",
       " 'replicate': 3}"
      ]
     },
     "metadata": {},
     "output_type": "display_data"
    }
   ],
   "source": [
    "num_sites = 1000\n",
    "distn = lambda x: np.random.rand(x) * 0.2  # mean effect size of 0.1\n",
    "for replicate in range(4):\n",
    "    additive_array = create_additive_array(num_sites, 0.05, distn)  # 50 sites\n",
    "    genome = GenomeExplicit(\n",
    "        [CalcKnockoutEffectsAdditive(additive_array)],\n",
    "    )\n",
    "    knockout_doses = pick_doses_extrema(\n",
    "        genome.test_knockout, num_sites, max_doses=5, smear_count=250\n",
    "    )\n",
    "    est = assay_additive_naive(\n",
    "        genome.test_knockout, num_sites, knockout_doses, num_replications=1000\n",
    "    )\n",
    "    est[\"replicate\"] = replicate\n",
    "    display(est)\n"
   ]
  }
 ],
 "metadata": {
  "kernelspec": {
   "display_name": "env",
   "language": "python",
   "name": "python3"
  },
  "language_info": {
   "codemirror_mode": {
    "name": "ipython",
    "version": 3
   },
   "file_extension": ".py",
   "mimetype": "text/x-python",
   "name": "python",
   "nbconvert_exporter": "python",
   "pygments_lexer": "ipython3",
   "version": "3.10.12"
  }
 },
 "nbformat": 4,
 "nbformat_minor": 2
}
