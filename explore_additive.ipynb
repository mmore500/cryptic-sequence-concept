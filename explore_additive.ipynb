{
 "cells": [
  {
   "cell_type": "markdown",
   "metadata": {},
   "source": [
    "# Exploratory Demo of Additive Site Methods\n"
   ]
  },
  {
   "cell_type": "markdown",
   "metadata": {},
   "source": [
    "*Goal:* infer prevalence of additive, small-effect genome sites from knockout experiments.\n",
    "\n",
    "**Outline:**\n",
    "- Generate example genome\n",
    "- Survey outcomes across a range of knockout doses (number of sites knocked out) in order to choose dose levels to focus testing on\n",
    "   - want doses where detectable fitness effects occur *sometimes* (but not *always* or *never*)\n",
    "- For each chosen dose level, do many knockout experiments to measure probability of detectable fitness effect at that dose\n",
    "- Fit negative binomial distribution to estimate underlying quantity of small-effect sites and their effect sizes\n"
   ]
  },
  {
   "cell_type": "markdown",
   "metadata": {},
   "source": [
    "## Preliminaries\n"
   ]
  },
  {
   "cell_type": "code",
   "execution_count": 1,
   "metadata": {
    "execution": {
     "iopub.execute_input": "2024-01-12T04:10:42.953019Z",
     "iopub.status.busy": "2024-01-12T04:10:42.952844Z",
     "iopub.status.idle": "2024-01-12T04:10:43.410942Z",
     "shell.execute_reply": "2024-01-12T04:10:43.410393Z"
    }
   },
   "outputs": [],
   "source": [
    "import numpy as np\n",
    "\n",
    "from pylib.analyze_additive import (\n",
    "    assay_additive_naive,\n",
    "    pick_doses_extrema,\n",
    ")\n",
    "from pylib.modelsys_explicit import GenomeExplicit\n",
    "from pylib.modelsys_explicit import (\n",
    "    CalcKnockoutEffectsAdditive,\n",
    "    create_additive_array,\n",
    "    GenomeExplicit,\n",
    ")\n"
   ]
  },
  {
   "cell_type": "markdown",
   "metadata": {},
   "source": [
    "Method implementations are organized as external Python source files within the local `pylib` directory.\n"
   ]
  },
  {
   "cell_type": "code",
   "execution_count": 2,
   "metadata": {
    "execution": {
     "iopub.execute_input": "2024-01-12T04:10:43.413845Z",
     "iopub.status.busy": "2024-01-12T04:10:43.413453Z",
     "iopub.status.idle": "2024-01-12T04:10:43.416348Z",
     "shell.execute_reply": "2024-01-12T04:10:43.415798Z"
    }
   },
   "outputs": [],
   "source": [
    "np.random.seed(1234)\n"
   ]
  },
  {
   "cell_type": "markdown",
   "metadata": {},
   "source": [
    "Ensure reproducibility.\n"
   ]
  },
  {
   "cell_type": "markdown",
   "metadata": {},
   "source": [
    "## Set Up Sample Genome\n"
   ]
  },
  {
   "cell_type": "markdown",
   "metadata": {},
   "source": [
    "Create a genome with 1,000 distinct sites, with 5% having an additive fitness effect when knocked out.\n",
    "Effect sizes are distributed uniformly between 0 and 0.2, relative to the detectability threshold of 1.0.\n"
   ]
  },
  {
   "cell_type": "code",
   "execution_count": 3,
   "metadata": {
    "execution": {
     "iopub.execute_input": "2024-01-12T04:10:43.418843Z",
     "iopub.status.busy": "2024-01-12T04:10:43.418429Z",
     "iopub.status.idle": "2024-01-12T04:10:43.421968Z",
     "shell.execute_reply": "2024-01-12T04:10:43.421463Z"
    }
   },
   "outputs": [],
   "source": [
    "num_sites = 1000\n",
    "distn = lambda x: np.random.rand(x) * 0.2  # mean effect size of 0.1\n",
    "additive_array = create_additive_array(num_sites, 0.05, distn)\n",
    "genome = GenomeExplicit(\n",
    "    [CalcKnockoutEffectsAdditive(additive_array)],\n",
    ")\n"
   ]
  },
  {
   "cell_type": "markdown",
   "metadata": {},
   "source": [
    "The true number of additive sites is\n"
   ]
  },
  {
   "cell_type": "code",
   "execution_count": 4,
   "metadata": {
    "execution": {
     "iopub.execute_input": "2024-01-12T04:10:43.424023Z",
     "iopub.status.busy": "2024-01-12T04:10:43.423846Z",
     "iopub.status.idle": "2024-01-12T04:10:43.429458Z",
     "shell.execute_reply": "2024-01-12T04:10:43.428886Z"
    }
   },
   "outputs": [
    {
     "data": {
      "text/plain": [
       "50"
      ]
     },
     "execution_count": 4,
     "metadata": {},
     "output_type": "execute_result"
    }
   ],
   "source": [
    "num_additive_sites = additive_array.astype(bool).sum()\n",
    "num_additive_sites\n"
   ]
  },
  {
   "cell_type": "markdown",
   "metadata": {},
   "source": [
    "## Choose Dose Levels\n"
   ]
  },
  {
   "cell_type": "markdown",
   "metadata": {},
   "source": [
    "Perform exploratory knockout experiments at a broad range of dose levels to decide the knockout doses to focus on testing.\n"
   ]
  },
  {
   "cell_type": "code",
   "execution_count": 5,
   "metadata": {
    "execution": {
     "iopub.execute_input": "2024-01-12T04:10:43.459336Z",
     "iopub.status.busy": "2024-01-12T04:10:43.458960Z",
     "iopub.status.idle": "2024-01-12T04:10:43.471624Z",
     "shell.execute_reply": "2024-01-12T04:10:43.471067Z"
    }
   },
   "outputs": [
    {
     "data": {
      "text/plain": [
       "array([ 87, 136, 186, 236, 286])"
      ]
     },
     "execution_count": 5,
     "metadata": {},
     "output_type": "execute_result"
    }
   ],
   "source": [
    "knockout_doses = pick_doses_extrema(\n",
    "    genome.test_knockout, num_sites, max_doses=5, smear_count=250\n",
    ")\n",
    "knockout_doses\n"
   ]
  },
  {
   "cell_type": "markdown",
   "metadata": {},
   "source": [
    "## Estimate Additive Site Prevalence\n"
   ]
  },
  {
   "cell_type": "markdown",
   "metadata": {},
   "source": [
    "Do 1,000 knockout tests at each dose, fit distribution to observed sensitivity rates at each dose, and then estimate per-site effect size and num additive sites.\n"
   ]
  },
  {
   "cell_type": "code",
   "execution_count": 6,
   "metadata": {
    "execution": {
     "iopub.execute_input": "2024-01-12T04:10:43.474014Z",
     "iopub.status.busy": "2024-01-12T04:10:43.473671Z",
     "iopub.status.idle": "2024-01-12T04:10:48.251704Z",
     "shell.execute_reply": "2024-01-12T04:10:48.251122Z"
    }
   },
   "outputs": [
    {
     "data": {
      "text/plain": [
       "{'num additive sites': 60.0,\n",
       " 'per-site effect size': 0.07692307692307693,\n",
       " 'negative binomial fit': {'r': 13,\n",
       "  'p': 0.06,\n",
       "  'fit quantiles': [0.006879833407397874,\n",
       "   0.113119404469053,\n",
       "   0.4169207581176875,\n",
       "   0.7350341276676735,\n",
       "   0.9128724581627263],\n",
       "  'error': 0.0010567470760802563},\n",
       " 'knockout doses': array([ 87, 136, 186, 236, 286]),\n",
       " 'dose sensitivies': [0.013, 0.141, 0.43, 0.729, 0.907]}"
      ]
     },
     "metadata": {},
     "output_type": "display_data"
    }
   ],
   "source": [
    "est = assay_additive_naive(\n",
    "    genome.test_knockout, num_sites, knockout_doses, num_replications=1000\n",
    ")\n",
    "display(est)\n"
   ]
  },
  {
   "cell_type": "code",
   "execution_count": 7,
   "metadata": {
    "execution": {
     "iopub.execute_input": "2024-01-12T04:10:48.254070Z",
     "iopub.status.busy": "2024-01-12T04:10:48.253710Z",
     "iopub.status.idle": "2024-01-12T04:10:48.256677Z",
     "shell.execute_reply": "2024-01-12T04:10:48.256165Z"
    }
   },
   "outputs": [
    {
     "name": "stdout",
     "output_type": "stream",
     "text": [
      "actual 50\n",
      "estimated 60.0\n"
     ]
    }
   ],
   "source": [
    "print(\"actual\", num_additive_sites)\n",
    "print(\"estimated\", est[\"num additive sites\"])\n"
   ]
  }
 ],
 "metadata": {
  "kernelspec": {
   "display_name": "env",
   "language": "python",
   "name": "python3"
  },
  "language_info": {
   "codemirror_mode": {
    "name": "ipython",
    "version": 3
   },
   "file_extension": ".py",
   "mimetype": "text/x-python",
   "name": "python",
   "nbconvert_exporter": "python",
   "pygments_lexer": "ipython3",
   "version": "3.10.12"
  }
 },
 "nbformat": 4,
 "nbformat_minor": 2
}
