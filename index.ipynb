{
 "cells": [
  {
   "cell_type": "code",
   "execution_count": 1,
   "metadata": {
    "execution": {
     "iopub.execute_input": "2024-02-11T03:37:17.386419Z",
     "iopub.status.busy": "2024-02-11T03:37:17.386255Z",
     "iopub.status.idle": "2024-02-11T03:37:17.594979Z",
     "shell.execute_reply": "2024-02-11T03:37:17.594477Z"
    }
   },
   "outputs": [],
   "source": [
    "import pandas as pd\n"
   ]
  },
  {
   "cell_type": "markdown",
   "metadata": {},
   "source": [
    "TODO\n"
   ]
  },
  {
   "cell_type": "code",
   "execution_count": 2,
   "metadata": {
    "execution": {
     "iopub.execute_input": "2024-02-11T03:37:17.597608Z",
     "iopub.status.busy": "2024-02-11T03:37:17.597377Z",
     "iopub.status.idle": "2024-02-11T03:37:17.600023Z",
     "shell.execute_reply": "2024-02-11T03:37:17.599525Z"
    }
   },
   "outputs": [],
   "source": [
    "# TODO\n"
   ]
  }
 ],
 "metadata": {
  "kernelspec": {
   "display_name": "Python 3",
   "language": "python",
   "name": "python3"
  },
  "language_info": {
   "codemirror_mode": {
    "name": "ipython",
    "version": 3
   },
   "file_extension": ".py",
   "mimetype": "text/x-python",
   "name": "python",
   "nbconvert_exporter": "python",
   "pygments_lexer": "ipython3",
   "version": "3.10.12"
  }
 },
 "nbformat": 4,
 "nbformat_minor": 4
}
