{
 "cells": [
  {
   "cell_type": "code",
   "execution_count": 1,
   "metadata": {
    "execution": {
     "iopub.execute_input": "2024-02-11T00:11:11.208520Z",
     "iopub.status.busy": "2024-02-11T00:11:11.208346Z",
     "iopub.status.idle": "2024-02-11T00:11:11.422811Z",
     "shell.execute_reply": "2024-02-11T00:11:11.422159Z"
    }
   },
   "outputs": [],
   "source": [
    "import pandas as pd\n"
   ]
  },
  {
   "cell_type": "markdown",
   "metadata": {},
   "source": [
    "TODO\n"
   ]
  },
  {
   "cell_type": "code",
   "execution_count": 2,
   "metadata": {
    "execution": {
     "iopub.execute_input": "2024-02-11T00:11:11.425659Z",
     "iopub.status.busy": "2024-02-11T00:11:11.425271Z",
     "iopub.status.idle": "2024-02-11T00:11:11.428018Z",
     "shell.execute_reply": "2024-02-11T00:11:11.427488Z"
    }
   },
   "outputs": [],
   "source": [
    "# TODO\n"
   ]
  }
 ],
 "metadata": {
  "kernelspec": {
   "display_name": "Python 3",
   "language": "python",
   "name": "python3"
  },
  "language_info": {
   "codemirror_mode": {
    "name": "ipython",
    "version": 3
   },
   "file_extension": ".py",
   "mimetype": "text/x-python",
   "name": "python",
   "nbconvert_exporter": "python",
   "pygments_lexer": "ipython3",
   "version": "3.10.12"
  }
 },
 "nbformat": 4,
 "nbformat_minor": 4
}
