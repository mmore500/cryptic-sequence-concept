{
 "cells": [
  {
   "cell_type": "code",
   "execution_count": 1,
   "metadata": {
    "execution": {
     "iopub.execute_input": "2024-02-09T07:30:38.088854Z",
     "iopub.status.busy": "2024-02-09T07:30:38.088695Z",
     "iopub.status.idle": "2024-02-09T07:30:38.297625Z",
     "shell.execute_reply": "2024-02-09T07:30:38.297016Z"
    }
   },
   "outputs": [],
   "source": [
    "import pandas as pd\n"
   ]
  },
  {
   "cell_type": "markdown",
   "metadata": {},
   "source": [
    "TODO\n"
   ]
  },
  {
   "cell_type": "code",
   "execution_count": 2,
   "metadata": {
    "execution": {
     "iopub.execute_input": "2024-02-09T07:30:38.300631Z",
     "iopub.status.busy": "2024-02-09T07:30:38.300185Z",
     "iopub.status.idle": "2024-02-09T07:30:38.302821Z",
     "shell.execute_reply": "2024-02-09T07:30:38.302306Z"
    }
   },
   "outputs": [],
   "source": [
    "# TODO\n"
   ]
  }
 ],
 "metadata": {
  "kernelspec": {
   "display_name": "Python 3",
   "language": "python",
   "name": "python3"
  },
  "language_info": {
   "codemirror_mode": {
    "name": "ipython",
    "version": 3
   },
   "file_extension": ".py",
   "mimetype": "text/x-python",
   "name": "python",
   "nbconvert_exporter": "python",
   "pygments_lexer": "ipython3",
   "version": "3.10.12"
  }
 },
 "nbformat": 4,
 "nbformat_minor": 4
}
