{
 "cells": [
  {
   "cell_type": "code",
   "execution_count": 1,
   "metadata": {
    "execution": {
     "iopub.execute_input": "2024-05-31T11:54:18.751492Z",
     "iopub.status.busy": "2024-05-31T11:54:18.751322Z",
     "iopub.status.idle": "2024-05-31T11:54:18.964945Z",
     "shell.execute_reply": "2024-05-31T11:54:18.964423Z"
    }
   },
   "outputs": [],
   "source": [
    "import pandas as pd\n"
   ]
  },
  {
   "cell_type": "markdown",
   "metadata": {},
   "source": [
    "TODO\n"
   ]
  },
  {
   "cell_type": "code",
   "execution_count": 2,
   "metadata": {
    "execution": {
     "iopub.execute_input": "2024-05-31T11:54:18.967887Z",
     "iopub.status.busy": "2024-05-31T11:54:18.967361Z",
     "iopub.status.idle": "2024-05-31T11:54:18.970063Z",
     "shell.execute_reply": "2024-05-31T11:54:18.969594Z"
    }
   },
   "outputs": [],
   "source": [
    "# TODO\n"
   ]
  }
 ],
 "metadata": {
  "kernelspec": {
   "display_name": "Python 3",
   "language": "python",
   "name": "python3"
  },
  "language_info": {
   "codemirror_mode": {
    "name": "ipython",
    "version": 3
   },
   "file_extension": ".py",
   "mimetype": "text/x-python",
   "name": "python",
   "nbconvert_exporter": "python",
   "pygments_lexer": "ipython3",
   "version": "3.10.12"
  }
 },
 "nbformat": 4,
 "nbformat_minor": 4
}
