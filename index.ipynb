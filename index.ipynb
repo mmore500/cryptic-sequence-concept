{
 "cells": [
  {
   "cell_type": "code",
   "execution_count": 1,
   "metadata": {
    "execution": {
     "iopub.execute_input": "2024-02-09T04:46:55.335521Z",
     "iopub.status.busy": "2024-02-09T04:46:55.335174Z",
     "iopub.status.idle": "2024-02-09T04:46:55.546017Z",
     "shell.execute_reply": "2024-02-09T04:46:55.545500Z"
    }
   },
   "outputs": [],
   "source": [
    "import pandas as pd\n"
   ]
  },
  {
   "cell_type": "markdown",
   "metadata": {},
   "source": [
    "TODO\n"
   ]
  },
  {
   "cell_type": "code",
   "execution_count": 2,
   "metadata": {
    "execution": {
     "iopub.execute_input": "2024-02-09T04:46:55.548802Z",
     "iopub.status.busy": "2024-02-09T04:46:55.548391Z",
     "iopub.status.idle": "2024-02-09T04:46:55.551014Z",
     "shell.execute_reply": "2024-02-09T04:46:55.550537Z"
    }
   },
   "outputs": [],
   "source": [
    "# TODO\n"
   ]
  }
 ],
 "metadata": {
  "kernelspec": {
   "display_name": "Python 3",
   "language": "python",
   "name": "python3"
  },
  "language_info": {
   "codemirror_mode": {
    "name": "ipython",
    "version": 3
   },
   "file_extension": ".py",
   "mimetype": "text/x-python",
   "name": "python",
   "nbconvert_exporter": "python",
   "pygments_lexer": "ipython3",
   "version": "3.10.12"
  }
 },
 "nbformat": 4,
 "nbformat_minor": 4
}
