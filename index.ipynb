{
 "cells": [
  {
   "cell_type": "code",
   "execution_count": 1,
   "metadata": {
    "execution": {
     "iopub.execute_input": "2024-05-31T12:15:11.153269Z",
     "iopub.status.busy": "2024-05-31T12:15:11.152855Z",
     "iopub.status.idle": "2024-05-31T12:15:11.369723Z",
     "shell.execute_reply": "2024-05-31T12:15:11.369188Z"
    }
   },
   "outputs": [],
   "source": [
    "import pandas as pd\n"
   ]
  },
  {
   "cell_type": "markdown",
   "metadata": {},
   "source": [
    "TODO\n"
   ]
  },
  {
   "cell_type": "code",
   "execution_count": 2,
   "metadata": {
    "execution": {
     "iopub.execute_input": "2024-05-31T12:15:11.372679Z",
     "iopub.status.busy": "2024-05-31T12:15:11.372201Z",
     "iopub.status.idle": "2024-05-31T12:15:11.374924Z",
     "shell.execute_reply": "2024-05-31T12:15:11.374379Z"
    }
   },
   "outputs": [],
   "source": [
    "# TODO\n"
   ]
  }
 ],
 "metadata": {
  "kernelspec": {
   "display_name": "Python 3",
   "language": "python",
   "name": "python3"
  },
  "language_info": {
   "codemirror_mode": {
    "name": "ipython",
    "version": 3
   },
   "file_extension": ".py",
   "mimetype": "text/x-python",
   "name": "python",
   "nbconvert_exporter": "python",
   "pygments_lexer": "ipython3",
   "version": "3.10.12"
  }
 },
 "nbformat": 4,
 "nbformat_minor": 4
}
