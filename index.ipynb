{
 "cells": [
  {
   "cell_type": "code",
   "execution_count": 1,
   "metadata": {
    "execution": {
     "iopub.execute_input": "2024-02-08T18:10:37.961837Z",
     "iopub.status.busy": "2024-02-08T18:10:37.961636Z",
     "iopub.status.idle": "2024-02-08T18:10:38.172958Z",
     "shell.execute_reply": "2024-02-08T18:10:38.172436Z"
    }
   },
   "outputs": [],
   "source": [
    "import pandas as pd\n"
   ]
  },
  {
   "cell_type": "markdown",
   "metadata": {},
   "source": [
    "TODO\n"
   ]
  },
  {
   "cell_type": "code",
   "execution_count": 2,
   "metadata": {
    "execution": {
     "iopub.execute_input": "2024-02-08T18:10:38.175691Z",
     "iopub.status.busy": "2024-02-08T18:10:38.175320Z",
     "iopub.status.idle": "2024-02-08T18:10:38.177980Z",
     "shell.execute_reply": "2024-02-08T18:10:38.177435Z"
    }
   },
   "outputs": [],
   "source": [
    "# TODO\n"
   ]
  }
 ],
 "metadata": {
  "kernelspec": {
   "display_name": "Python 3",
   "language": "python",
   "name": "python3"
  },
  "language_info": {
   "codemirror_mode": {
    "name": "ipython",
    "version": 3
   },
   "file_extension": ".py",
   "mimetype": "text/x-python",
   "name": "python",
   "nbconvert_exporter": "python",
   "pygments_lexer": "ipython3",
   "version": "3.10.12"
  }
 },
 "nbformat": 4,
 "nbformat_minor": 4
}
