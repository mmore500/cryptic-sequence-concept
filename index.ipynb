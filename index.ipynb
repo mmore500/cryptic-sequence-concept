{
 "cells": [
  {
   "cell_type": "code",
   "execution_count": 1,
   "metadata": {
    "execution": {
     "iopub.execute_input": "2024-02-09T04:37:06.818613Z",
     "iopub.status.busy": "2024-02-09T04:37:06.818433Z",
     "iopub.status.idle": "2024-02-09T04:37:07.033169Z",
     "shell.execute_reply": "2024-02-09T04:37:07.032537Z"
    }
   },
   "outputs": [],
   "source": [
    "import pandas as pd\n"
   ]
  },
  {
   "cell_type": "markdown",
   "metadata": {},
   "source": [
    "TODO\n"
   ]
  },
  {
   "cell_type": "code",
   "execution_count": 2,
   "metadata": {
    "execution": {
     "iopub.execute_input": "2024-02-09T04:37:07.036029Z",
     "iopub.status.busy": "2024-02-09T04:37:07.035743Z",
     "iopub.status.idle": "2024-02-09T04:37:07.038423Z",
     "shell.execute_reply": "2024-02-09T04:37:07.037881Z"
    }
   },
   "outputs": [],
   "source": [
    "# TODO\n"
   ]
  }
 ],
 "metadata": {
  "kernelspec": {
   "display_name": "Python 3",
   "language": "python",
   "name": "python3"
  },
  "language_info": {
   "codemirror_mode": {
    "name": "ipython",
    "version": 3
   },
   "file_extension": ".py",
   "mimetype": "text/x-python",
   "name": "python",
   "nbconvert_exporter": "python",
   "pygments_lexer": "ipython3",
   "version": "3.10.12"
  }
 },
 "nbformat": 4,
 "nbformat_minor": 4
}
