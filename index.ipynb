{
 "cells": [
  {
   "cell_type": "code",
   "execution_count": 1,
   "metadata": {
    "execution": {
     "iopub.execute_input": "2024-02-08T18:19:16.427783Z",
     "iopub.status.busy": "2024-02-08T18:19:16.427386Z",
     "iopub.status.idle": "2024-02-08T18:19:16.638263Z",
     "shell.execute_reply": "2024-02-08T18:19:16.637754Z"
    }
   },
   "outputs": [],
   "source": [
    "import pandas as pd\n"
   ]
  },
  {
   "cell_type": "markdown",
   "metadata": {},
   "source": [
    "TODO\n"
   ]
  },
  {
   "cell_type": "code",
   "execution_count": 2,
   "metadata": {
    "execution": {
     "iopub.execute_input": "2024-02-08T18:19:16.641084Z",
     "iopub.status.busy": "2024-02-08T18:19:16.640650Z",
     "iopub.status.idle": "2024-02-08T18:19:16.643320Z",
     "shell.execute_reply": "2024-02-08T18:19:16.642805Z"
    }
   },
   "outputs": [],
   "source": [
    "# TODO\n"
   ]
  }
 ],
 "metadata": {
  "kernelspec": {
   "display_name": "Python 3",
   "language": "python",
   "name": "python3"
  },
  "language_info": {
   "codemirror_mode": {
    "name": "ipython",
    "version": 3
   },
   "file_extension": ".py",
   "mimetype": "text/x-python",
   "name": "python",
   "nbconvert_exporter": "python",
   "pygments_lexer": "ipython3",
   "version": "3.10.12"
  }
 },
 "nbformat": 4,
 "nbformat_minor": 4
}
