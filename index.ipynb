{
 "cells": [
  {
   "cell_type": "code",
   "execution_count": 1,
   "metadata": {
    "execution": {
     "iopub.execute_input": "2024-04-15T22:23:52.573791Z",
     "iopub.status.busy": "2024-04-15T22:23:52.573631Z",
     "iopub.status.idle": "2024-04-15T22:23:52.784388Z",
     "shell.execute_reply": "2024-04-15T22:23:52.783891Z"
    }
   },
   "outputs": [],
   "source": [
    "import pandas as pd\n"
   ]
  },
  {
   "cell_type": "markdown",
   "metadata": {},
   "source": [
    "TODO\n"
   ]
  },
  {
   "cell_type": "code",
   "execution_count": 2,
   "metadata": {
    "execution": {
     "iopub.execute_input": "2024-04-15T22:23:52.787182Z",
     "iopub.status.busy": "2024-04-15T22:23:52.786770Z",
     "iopub.status.idle": "2024-04-15T22:23:52.789346Z",
     "shell.execute_reply": "2024-04-15T22:23:52.788818Z"
    }
   },
   "outputs": [],
   "source": [
    "# TODO\n"
   ]
  }
 ],
 "metadata": {
  "kernelspec": {
   "display_name": "Python 3",
   "language": "python",
   "name": "python3"
  },
  "language_info": {
   "codemirror_mode": {
    "name": "ipython",
    "version": 3
   },
   "file_extension": ".py",
   "mimetype": "text/x-python",
   "name": "python",
   "nbconvert_exporter": "python",
   "pygments_lexer": "ipython3",
   "version": "3.10.12"
  }
 },
 "nbformat": 4,
 "nbformat_minor": 4
}
