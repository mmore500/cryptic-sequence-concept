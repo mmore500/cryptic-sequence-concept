{
 "cells": [
  {
   "cell_type": "markdown",
   "metadata": {},
   "source": [
    "# Exploratory Demo of Epistatic Site Methods\n"
   ]
  },
  {
   "cell_type": "markdown",
   "metadata": {},
   "source": [
    "*Goal:* infer prevalence of sets of redundant sites, where all sites within a set must be eliminated to observe a fitness effect.\n",
    "Differentiate these sites from sites with additive individual effects.\n",
    "\n",
    "**Outline:**\n",
    "- Generate sample genome and check ground-truth counts of different site types\n",
    "- Sample repeat skeletonizations of sample genome (i.e., knockouts where no remaining sites can be removed without observing a fitness effect)\n",
    "- Visualize distribution of skeletonization outcomes site-by-site,\n",
    "    - how often does a particular site appear in skeletons?\n",
    "- For sampled skeletons, perform \"jackknife\" knockouts where each site remaining within skeleton is removed and the fitness effect is measured.\n",
    "- Use \"jackknife\" knockout severity to differentiate epistatic sites from additive sites; in particular, redundant sites will\n",
    "    1. have high severity jackknife knockout outcomes AND\n",
    "    2. be excluded from many skeletons (i.e., depending on whether it is last member of set remaining within the skeleton).\n"
   ]
  },
  {
   "cell_type": "markdown",
   "metadata": {},
   "source": [
    "## Preliminaries\n"
   ]
  },
  {
   "cell_type": "code",
   "execution_count": null,
   "metadata": {},
   "outputs": [],
   "source": [
    "from matplotlib import pyplot as plt\n",
    "import numpy as np\n",
    "import outset as otst\n",
    "from outset import patched as otst_patched\n",
    "import pandas as pd\n",
    "import seaborn as sns\n",
    "from teeplot import teeplot as tp\n",
    "from tqdm import tqdm\n",
    "\n",
    "from pylib.analyze_epistasis import (\n",
    "    assay_epistasis_naive,\n",
    "    describe_skeletons,\n",
    "    skeletonize_naive,\n",
    ")\n",
    "from pylib.auxlib._jitter import jitter\n",
    "from pylib.modelsys_explicit import GenomeExplicit\n",
    "from pylib.modelsys_explicit import (\n",
    "    GenomeExplicit,\n",
    "    CalcKnockoutEffectsAdditive,\n",
    "    CalcKnockoutEffectsEpistasis,\n",
    "    create_additive_array,\n",
    "    create_epistasis_matrix_overlapping,\n",
    "    describe_additive_array,\n",
    "    describe_epistasis_matrix,\n",
    ")\n"
   ]
  },
  {
   "cell_type": "markdown",
   "metadata": {},
   "source": [
    "Method implementations are organized as external Python source files within the local `pylib` directory.\n"
   ]
  },
  {
   "cell_type": "code",
   "execution_count": null,
   "metadata": {},
   "outputs": [],
   "source": [
    "np.random.seed(1234)\n"
   ]
  },
  {
   "cell_type": "markdown",
   "metadata": {},
   "source": [
    "Ensure reproducibility.\n"
   ]
  },
  {
   "cell_type": "markdown",
   "metadata": {},
   "source": [
    "## Create Sample Genome\n"
   ]
  },
  {
   "cell_type": "markdown",
   "metadata": {},
   "source": [
    "Create a genome with 4,000 distinct sites.\n",
    "\n",
    "Let 5% of sites have an additive knockout fitness effect below detectability threshold (uniform between 0 and 0.7 fitness effect).\n",
    "\n",
    "Assign 20 sets of epistatic effects, with 5 sites per set.\n",
    "Apply a set-specific fitness penalty between 0.7 and 1.6 when all sites in a set are knocked out.\n",
    "\n",
    "Fitness 1.0 is considered the threshold for detectability.\n"
   ]
  },
  {
   "cell_type": "code",
   "execution_count": null,
   "metadata": {},
   "outputs": [],
   "source": [
    "num_sites = 4000\n",
    "distn = lambda x: np.random.rand(x) * 0.7  # mean effect size of 0.7 / 2\n",
    "additive_array = create_additive_array(num_sites, 0.05, distn)\n",
    "epistasis_matrix = create_epistasis_matrix_overlapping(num_sites, 20, 5)\n",
    "genome = GenomeExplicit(\n",
    "    [\n",
    "        CalcKnockoutEffectsAdditive(additive_array),\n",
    "        CalcKnockoutEffectsEpistasis(epistasis_matrix, effect_size=(0.7, 1.6)),\n",
    "    ],\n",
    ")\n"
   ]
  },
  {
   "cell_type": "markdown",
   "metadata": {},
   "source": [
    "## Describe and Inspect Genome\n"
   ]
  },
  {
   "cell_type": "markdown",
   "metadata": {},
   "source": [
    "Tabulate description of content of each genome site.\n"
   ]
  },
  {
   "cell_type": "code",
   "execution_count": null,
   "metadata": {},
   "outputs": [],
   "source": [
    "dfa = describe_additive_array(additive_array)\n",
    "dfb = describe_epistasis_matrix(epistasis_matrix)\n",
    "df_genome = pd.DataFrame.merge(dfa, dfb, on=\"site\")\n",
    "df_genome[\"site type\"] = (\n",
    "    df_genome[\"additive site\"].astype(int)\n",
    "    + df_genome[\"epistasis site\"].astype(int) * 2\n",
    ").map(\n",
    "    {\n",
    "        0: \"neutral\",\n",
    "        1: \"additive\",\n",
    "        2: \"epistasis\",\n",
    "        3: \"both\",\n",
    "    }\n",
    ")\n",
    "\n",
    "df_genome\n"
   ]
  },
  {
   "cell_type": "markdown",
   "metadata": {},
   "source": [
    "How many of each kind of site are in the genome?\n"
   ]
  },
  {
   "cell_type": "code",
   "execution_count": null,
   "metadata": {},
   "outputs": [],
   "source": [
    "sns.displot(df_genome[\"site type\"])\n",
    "plt.yscale(\"log\")\n",
    "print(df_genome[\"site type\"].value_counts())\n",
    "print(\"non-neutral\", (df_genome[\"site type\"] != \"neutral\").sum())\n"
   ]
  },
  {
   "cell_type": "markdown",
   "metadata": {},
   "source": [
    "## Perform Skeletonizations\n"
   ]
  },
  {
   "cell_type": "markdown",
   "metadata": {},
   "source": [
    "\"Skeletons\" are minimal sets of genome sites that maintain wile-type fitness.\n",
    "Skeletons can be generated by sequentially removing sites from the genome, until no further sites can be removed without detectably reducing fitness.\n",
    "\n",
    "Sample 20 skeletons.\n"
   ]
  },
  {
   "cell_type": "code",
   "execution_count": null,
   "metadata": {},
   "outputs": [],
   "source": [
    "num_skeletonizations = 20\n",
    "skeletons = np.vstack(\n",
    "    [\n",
    "        skeletonize_naive(num_sites, genome.test_knockout)\n",
    "        for _ in tqdm(range(num_skeletonizations))\n",
    "    ],\n",
    ")\n"
   ]
  },
  {
   "cell_type": "markdown",
   "metadata": {},
   "source": [
    "Here's an example skeleton.\n"
   ]
  },
  {
   "cell_type": "code",
   "execution_count": null,
   "metadata": {},
   "outputs": [],
   "source": [
    "# convert from knockout true to retained true\n",
    "retained_sites = ~skeletons[0].astype(bool)\n",
    "sns.rugplot(\n",
    "    np.flatnonzero(retained_sites),\n",
    "    height=0.5,\n",
    ")\n",
    "retained_sites\n"
   ]
  },
  {
   "cell_type": "markdown",
   "metadata": {},
   "source": [
    "## Describe Skeletons\n"
   ]
  },
  {
   "cell_type": "markdown",
   "metadata": {},
   "source": [
    "Plot frequency that sites are excluded from skeletons (y axis) and the number of steps into the skeletonization process when sites are excluded (x axis).\n",
    "(Sites are considered for knockout in random order, but some appear to only be knocked out neutrally early on.)\n",
    "\n",
    "Sites that can be knocked out neutrally late in the skeletonization process appear to be successfully excluded from skeletons more often.\n"
   ]
  },
  {
   "cell_type": "markdown",
   "metadata": {},
   "source": [
    "First, excluding neutral sites.\n"
   ]
  },
  {
   "cell_type": "code",
   "execution_count": null,
   "metadata": {},
   "outputs": [],
   "source": [
    "otst_patched.scatterplot(\n",
    "    pd.DataFrame(\n",
    "        {\n",
    "            \"skeleton exclusion order\": np.mean(skeletons, axis=0),\n",
    "            \"skeleton exclusion frequency\": jitter(\n",
    "                np.mean(skeletons.astype(bool), axis=0),\n",
    "                amount=0.01,\n",
    "            ),\n",
    "            \"site type\": df_genome[\"site type\"],\n",
    "        },\n",
    "    ),\n",
    "    x=\"skeleton exclusion order\",\n",
    "    y=\"skeleton exclusion frequency\",\n",
    "    hue=\"site type\",\n",
    "    style=\"site type\",\n",
    "    hue_order=[\"additive\", \"epistasis\", \"both\"],\n",
    "    alpha=0.5,\n",
    ")\n"
   ]
  },
  {
   "cell_type": "markdown",
   "metadata": {},
   "source": [
    "Same plot, but including neutral sites.\n"
   ]
  },
  {
   "cell_type": "code",
   "execution_count": null,
   "metadata": {},
   "outputs": [],
   "source": [
    "assert (np.diff(df_genome[\"site\"]) == 1).all()  # is sorted?\n",
    "og = otst.OutsetGrid(\n",
    "    data=pd.DataFrame(\n",
    "        {\n",
    "            \"skeleton order\": np.mean(skeletons, axis=0),\n",
    "            \"skeleton frequency\": jitter(\n",
    "                np.mean(skeletons.astype(bool), axis=0),\n",
    "                amount=0.01,\n",
    "            ),\n",
    "            \"site type\": df_genome[\"site type\"],\n",
    "        },\n",
    "    ),\n",
    "    x=\"skeleton order\",\n",
    "    y=\"skeleton frequency\",\n",
    "    hue=\"site type\",\n",
    "    col=\"site type\",\n",
    "    col_wrap=3,\n",
    ")\n",
    "og.map_dataframe(\n",
    "    sns.scatterplot,\n",
    "    x=\"skeleton order\",\n",
    "    y=\"skeleton frequency\",\n",
    "    alpha=0.5,\n",
    "    legend=False,\n",
    ")\n",
    "og.add_legend(loc=\"lower right\", bbox_to_anchor=(0.9, 0.2))\n",
    "og.marqueeplot()\n",
    "\n",
    "plt.show()\n"
   ]
  },
  {
   "cell_type": "markdown",
   "metadata": {},
   "source": [
    "How many unique sites are included in at least one skeleton?\n",
    "(i.e., num sites with direct evidence of functionality)\n"
   ]
  },
  {
   "cell_type": "code",
   "execution_count": null,
   "metadata": {},
   "outputs": [],
   "source": [
    "np.any(\n",
    "    (~skeletons.astype(bool)),\n",
    "    axis=0,\n",
    ").sum()\n"
   ]
  },
  {
   "cell_type": "markdown",
   "metadata": {},
   "source": [
    "## Perform Jackknife Knockouts\n"
   ]
  },
  {
   "cell_type": "markdown",
   "metadata": {},
   "source": [
    "For each skeleton, knock out each site retained one-by-one, and measure severity of fitness effect.\n",
    "Then, tabulate jackknife knockout outcomes on a per-site basis.\n"
   ]
  },
  {
   "cell_type": "code",
   "execution_count": null,
   "metadata": {},
   "outputs": [],
   "source": [
    "df_skeletons = describe_skeletons(skeletons, genome.test_knockout)\n",
    "\n",
    "df_skeletons\n"
   ]
  },
  {
   "cell_type": "markdown",
   "metadata": {},
   "source": [
    "## Use Skeleton Jackknifes to Differentiate Epistasis versus Additive Sites\n"
   ]
  },
  {
   "cell_type": "markdown",
   "metadata": {},
   "source": [
    "Our goal is to isolate epistatic sites and then count them up.\n",
    "\n",
    "Do this by setting thresholds for skeleton exclusion frequency and jackknife knockout severity, then counting sites that exceed both thresholds.\n",
    "\n",
    "First, set the skeleton exclusion frequency threshold at 0.3.\n",
    "Then, look at all points excluded *less* than 30% of the time.\n",
    "Take the 20th percentile of these sites' jackknife knockout severities.\n",
    "This is the jackknife knockout severity threshold.\n",
    "\n",
    "Then, count sites that exceed both thresholds.\n"
   ]
  },
  {
   "cell_type": "code",
   "execution_count": null,
   "metadata": {},
   "outputs": [],
   "source": [
    "est = assay_epistasis_naive(\n",
    "    df_skeletons,\n",
    "    exclusion_frequency_thresh=0.3,\n",
    "    jackknife_severity_thresh=0.2,\n",
    ")\n",
    "est\n"
   ]
  },
  {
   "cell_type": "markdown",
   "metadata": {},
   "source": [
    "For comparison, the actual count of epistasis sites is\n"
   ]
  },
  {
   "cell_type": "code",
   "execution_count": null,
   "metadata": {},
   "outputs": [],
   "source": [
    "df_genome[\"site type\"].value_counts()[\"epistasis\"]\n"
   ]
  },
  {
   "cell_type": "markdown",
   "metadata": {},
   "source": [
    "This estimate could probably be improved with mark-recapture methods as used in the \"agnostic\" methods.\n"
   ]
  },
  {
   "cell_type": "markdown",
   "metadata": {},
   "source": [
    "Visualization of process used to discern epistatic sites from small-effect sites.\n",
    "Sites within shaded region are counted as epistatic.\n"
   ]
  },
  {
   "cell_type": "code",
   "execution_count": null,
   "metadata": {},
   "outputs": [],
   "source": [
    "df_joint = pd.DataFrame.merge(  # combine genome & skeleton data\n",
    "    df_genome,\n",
    "    df_skeletons,\n",
    "    on=\"site\",\n",
    ")\n",
    "def scatterplot_rect(*args, **kwargs) -> plt.Axes:\n",
    "    ax = sns.scatterplot(\n",
    "        **kwargs,\n",
    "        alpha=0.5,\n",
    "    )\n",
    "    sns.move_legend(ax, \"upper left\", bbox_to_anchor=(1, 1))\n",
    "    plt.axvline(est[\"exclusion frequency cutoff\"], ls=\"--\")\n",
    "    plt.axhline(est[\"jackknife severity cutoff\"], ls=\":\")\n",
    "    with plt.rc_context({\"hatch.color\": \"lightblue\"}):\n",
    "        plt.gca().add_patch(\n",
    "            plt.Rectangle(\n",
    "                (\n",
    "                    est[\"exclusion frequency cutoff\"],\n",
    "                    est[\"jackknife severity cutoff\"],\n",
    "                ),\n",
    "                plt.xlim()[1] - est[\"exclusion frequency cutoff\"],\n",
    "                plt.ylim()[1] - est[\"jackknife severity cutoff\"],\n",
    "                alpha=0.05,\n",
    "                fill=True,\n",
    "                hatch=\"\\\\\",\n",
    "                zorder=-1,\n",
    "                color=\"black\",\n",
    "            ),\n",
    "        )\n",
    "    plt.gcf().set_size_inches((3, 2.5))\n",
    "    return ax\n",
    "\n",
    "tp.tee(\n",
    "    scatterplot_rect,\n",
    "    data={\n",
    "        \"Skeleton Exclusion Rate\": jitter(\n",
    "            df_joint[\"skeleton outcome frequency, excluded\"],\n",
    "            amount=0.01,\n",
    "        ),\n",
    "        \"Jackknife Knockout Severity\": df_joint[\"jackknife result\"],\n",
    "        \"Site Type\": df_joint[\"site type\"].replace(\"neutral\", np.nan),\n",
    "    },\n",
    "    x=\"Skeleton Exclusion Rate\",\n",
    "    y=\"Jackknife Knockout Severity\",\n",
    "    hue=\"Site Type\",\n",
    "    style=\"Site Type\",\n",
    ")\n"
   ]
  },
  {
   "cell_type": "markdown",
   "metadata": {},
   "source": [
    "Note the presence of *very* small-effect additive sites (i.e., low jackknife knockout severity) with high exclusion rates.\n",
    "This is why we need jackknife severity to identify epistatic sites.\n"
   ]
  }
 ],
 "metadata": {
  "kernelspec": {
   "display_name": "env",
   "language": "python",
   "name": "python3"
  },
  "language_info": {
   "codemirror_mode": {
    "name": "ipython",
    "version": 3
   },
   "file_extension": ".py",
   "mimetype": "text/x-python",
   "name": "python",
   "nbconvert_exporter": "python",
   "pygments_lexer": "ipython3"
  }
 },
 "nbformat": 4,
 "nbformat_minor": 2
}
